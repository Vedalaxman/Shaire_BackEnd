{
 "cells": [
  {
   "cell_type": "code",
   "execution_count": 281,
   "id": "6e633354-8f3f-4439-8148-0fb13271895f",
   "metadata": {},
   "outputs": [],
   "source": [
    "import pickle\n",
    "import sklearn\n",
    "from sklearn.naive_bayes import MultinomialNB\n",
    "from sklearn.feature_extraction.text import TfidfVectorizer\n",
    "from sklearn.feature_extraction.text import ENGLISH_STOP_WORDS\n",
    "import nltk\n",
    "from nltk.tokenize import PunktSentenceTokenizer"
   ]
  },
  {
   "cell_type": "code",
   "execution_count": 3,
   "id": "3f253140-71e8-4d84-af6f-53f330f19338",
   "metadata": {},
   "outputs": [],
   "source": [
    "with open('mnb_model.pkl', 'rb') as file:\n",
    "    loaded_mnb = pickle.load(file) "
   ]
  },
  {
   "cell_type": "code",
   "execution_count": 4,
   "id": "8dd2f9f7-480b-4cf9-ac20-f5b01c3db289",
   "metadata": {},
   "outputs": [],
   "source": [
    "with open('lr_model.pkl', 'rb') as file:\n",
    "    loaded_lr = pickle.load(file) "
   ]
  },
  {
   "cell_type": "code",
   "execution_count": 5,
   "id": "758f0024-d0ea-46cf-82fa-cb2f35136823",
   "metadata": {},
   "outputs": [],
   "source": [
    "with open('vectorizer.pkl', 'rb') as file:\n",
    "    vect = pickle.load(file)"
   ]
  },
  {
   "cell_type": "code",
   "execution_count": 582,
   "id": "3ccd5963-ff13-4eba-ace0-12b32269732e",
   "metadata": {},
   "outputs": [],
   "source": [
    "sentence =  \"\"\"there is, i can give you some hint like hangman(who hangs the criminals if they had a death penalty), military(kills other country peoples by tanks, guns etc for sake of their country's interest), etc\n",
    "also we can kill animals and torture animals like chickens(in chicken farm just to eat them even though we have vegetables), pig farm, cows farm, zoo etcand you are saying that i cannot do that ??\"\"\"\n",
    " "
   ]
  },
  {
   "cell_type": "code",
   "execution_count": 583,
   "id": "6caf54f0-2812-4230-b829-3086b398d5c5",
   "metadata": {},
   "outputs": [],
   "source": [
    "stop_words = set(ENGLISH_STOP_WORDS)\n",
    "tokenizer = PunktSentenceTokenizer()\n",
    "sentences = tokenizer.tokenize(sentence)\n",
    "sentences = [s.replace(\"\\xa0\", \" \") for s in sentences]"
   ]
  },
  {
   "cell_type": "code",
   "execution_count": 584,
   "id": "ae332d00-2e91-4f24-b121-0d4b8f1ba85c",
   "metadata": {},
   "outputs": [],
   "source": [
    "ai_sentences = 0\n",
    "ai_sentences_list = []"
   ]
  },
  {
   "cell_type": "code",
   "execution_count": 585,
   "id": "f08e9d79-234c-493a-851d-c323fb5ccfaa",
   "metadata": {},
   "outputs": [],
   "source": [
    "for sentence in sentences:\n",
    "    words = sentence.split()\n",
    "    ai_words_list = []\n",
    "    valid_words = 0\n",
    "    ai_words = 0\n",
    "    x_sentence = vect.transform([sentence])\n",
    "    proba_mnb = loaded_mnb.predict_proba(x_sentence)[0]\n",
    "    proba_lr = loaded_lr.predict_proba(x_sentence)[0]\n",
    "    sentence_proba = proba_mnb * 0.80 + proba_lr * 0.20\n",
    "    for word in words:\n",
    "        if word.lower() in stop_words:\n",
    "            continue\n",
    "        valid_words += 1\n",
    "        x_word = vect.transform([word])\n",
    "        proba_mnb = loaded_mnb.predict_proba(x_word)[0]\n",
    "        proba_lr = loaded_lr.predict_proba(x_word)[0]\n",
    "        word_proba = proba_mnb * 0.79 + proba_lr * 0.21\n",
    "        if word_proba[1] > 0.50:  \n",
    "            ai_words_list.append(word)\n",
    "            ai_words += 1\n",
    "    ai_percentage = (ai_words / valid_words) * 100 if valid_words > 0 else 0\n",
    "    if ai_percentage > 50:\n",
    "        ai_sentences += 1\n",
    "        ai_sentences_list.append(sentence)"
   ]
  },
  {
   "cell_type": "code",
   "execution_count": 586,
   "id": "08072e31-5dff-48a6-94e3-d501f665c962",
   "metadata": {},
   "outputs": [
    {
     "data": {
      "text/plain": [
       "['?']"
      ]
     },
     "execution_count": 586,
     "metadata": {},
     "output_type": "execute_result"
    }
   ],
   "source": [
    "ai_sentences_list"
   ]
  },
  {
   "cell_type": "code",
   "execution_count": 581,
   "id": "ebecdd2e-8069-46e0-ad15-9f84e4bc8d5b",
   "metadata": {},
   "outputs": [
    {
     "data": {
      "text/plain": [
       "0.5"
      ]
     },
     "execution_count": 581,
     "metadata": {},
     "output_type": "execute_result"
    }
   ],
   "source": [
    "ai_percentage = ai_sentences/len(sentences) if len(sentences) > 0 else 0\n",
    "ai_percentage"
   ]
  },
  {
   "cell_type": "code",
   "execution_count": 575,
   "id": "e046f27a-2ad4-4d8b-9d71-813991cd07c7",
   "metadata": {},
   "outputs": [
    {
     "data": {
      "text/plain": [
       "[\"there is, i can give you some hint like hangman(who hangs the criminals if they had a death penalty), military(kills other country peoples by tanks, guns etc for sake of their country's interest), etc\\nalso we can kill animals and torture animals like chickens(in chicken farm just to eat them even though we have vegetables), pig farm, cows farm, zoo etcand you are saying that i cannot do that ???\",\n",
       " '?']"
      ]
     },
     "execution_count": 575,
     "metadata": {},
     "output_type": "execute_result"
    }
   ],
   "source": [
    "(sentences)"
   ]
  }
 ],
 "metadata": {
  "kernelspec": {
   "display_name": "Python (tf_env)",
   "language": "python",
   "name": "tf_env"
  },
  "language_info": {
   "codemirror_mode": {
    "name": "ipython",
    "version": 3
   },
   "file_extension": ".py",
   "mimetype": "text/x-python",
   "name": "python",
   "nbconvert_exporter": "python",
   "pygments_lexer": "ipython3",
   "version": "3.10.13"
  }
 },
 "nbformat": 4,
 "nbformat_minor": 5
}
