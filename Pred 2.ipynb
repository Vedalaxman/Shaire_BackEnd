{
 "cells": [
  {
   "cell_type": "code",
   "execution_count": 1,
   "id": "2e14b70c-8e0d-47f4-a2d8-c3d62473a93d",
   "metadata": {},
   "outputs": [],
   "source": [
    "import tensorflow as tf\n",
    "import pandas as pd\n",
    "import numpy as np\n",
    "from tensorflow import keras\n",
    "from keras.layers import Dense, Dropout, LSTM\n",
    "from keras.models import Sequential\n",
    "from keras.regularizers import l1_l2, l2\n",
    "from keras.optimizers import Adam\n",
    "from keras.initializers import HeNormal\n",
    "from keras.callbacks import EarlyStopping, ReduceLROnPlateau\n",
    "\n",
    "import sklearn\n",
    "from sklearn.model_selection import train_test_split, KFold\n",
    "from sklearn.preprocessing import MinMaxScaler, StandardScaler, OneHotEncoder, PolynomialFeatures\n",
    "from sklearn.metrics import mean_squared_error, mean_absolute_error\n",
    "from sklearn.linear_model import Ridge, Lasso, LinearRegression, ElasticNet\n",
    "from sklearn.tree import DecisionTreeRegressor\n",
    "from sklearn.ensemble import RandomForestRegressor\n",
    "from sklearn.svm import SVR\n",
    "\n",
    "import warnings\n",
    "warnings.filterwarnings('ignore')"
   ]
  },
  {
   "cell_type": "code",
   "execution_count": 485,
   "id": "f80de278-de9a-47c1-8f63-2de9fe1d0772",
   "metadata": {},
   "outputs": [
    {
     "data": {
      "text/html": [
       "<div>\n",
       "<style scoped>\n",
       "    .dataframe tbody tr th:only-of-type {\n",
       "        vertical-align: middle;\n",
       "    }\n",
       "\n",
       "    .dataframe tbody tr th {\n",
       "        vertical-align: top;\n",
       "    }\n",
       "\n",
       "    .dataframe thead th {\n",
       "        text-align: right;\n",
       "    }\n",
       "</style>\n",
       "<table border=\"1\" class=\"dataframe\">\n",
       "  <thead>\n",
       "    <tr style=\"text-align: right;\">\n",
       "      <th></th>\n",
       "      <th>Unnamed: 0</th>\n",
       "      <th>date</th>\n",
       "      <th>amount</th>\n",
       "    </tr>\n",
       "  </thead>\n",
       "  <tbody>\n",
       "    <tr>\n",
       "      <th>0</th>\n",
       "      <td>0</td>\n",
       "      <td>Jul 30, 2023</td>\n",
       "      <td>1.0</td>\n",
       "    </tr>\n",
       "    <tr>\n",
       "      <th>1</th>\n",
       "      <td>1</td>\n",
       "      <td>Aug 01, 2023</td>\n",
       "      <td>583.0</td>\n",
       "    </tr>\n",
       "    <tr>\n",
       "      <th>2</th>\n",
       "      <td>2</td>\n",
       "      <td>Aug 01, 2023</td>\n",
       "      <td>93.0</td>\n",
       "    </tr>\n",
       "    <tr>\n",
       "      <th>3</th>\n",
       "      <td>3</td>\n",
       "      <td>Aug 04, 2023</td>\n",
       "      <td>454.0</td>\n",
       "    </tr>\n",
       "    <tr>\n",
       "      <th>4</th>\n",
       "      <td>4</td>\n",
       "      <td>Aug 09, 2023</td>\n",
       "      <td>5500.0</td>\n",
       "    </tr>\n",
       "  </tbody>\n",
       "</table>\n",
       "</div>"
      ],
      "text/plain": [
       "   Unnamed: 0          date  amount\n",
       "0           0  Jul 30, 2023     1.0\n",
       "1           1  Aug 01, 2023   583.0\n",
       "2           2  Aug 01, 2023    93.0\n",
       "3           3  Aug 04, 2023   454.0\n",
       "4           4  Aug 09, 2023  5500.0"
      ]
     },
     "execution_count": 485,
     "metadata": {},
     "output_type": "execute_result"
    }
   ],
   "source": [
    "df = pd.read_csv('veda_mc.csv')\n",
    "df.head()"
   ]
  },
  {
   "cell_type": "code",
   "execution_count": 486,
   "id": "ae452c6b-fb64-4688-a3a6-52e6c866b851",
   "metadata": {},
   "outputs": [],
   "source": [
    "df = df.drop(columns=['Unnamed: 0'])"
   ]
  },
  {
   "cell_type": "code",
   "execution_count": 487,
   "id": "c5dc5d9f-3b97-4d97-b1ad-db6b719d3405",
   "metadata": {},
   "outputs": [],
   "source": [
    "df = df.rename(columns = {'date': 'date',\n",
    "          'amount': 'price'})"
   ]
  },
  {
   "cell_type": "code",
   "execution_count": 488,
   "id": "876a01df-b9b0-44e7-bd0a-0e05924fb3dc",
   "metadata": {},
   "outputs": [],
   "source": [
    "df['date'] = pd.to_datetime(df['date'])\n",
    "date_range = pd.date_range(start=df['date'].min(), end=df['date'].max(), freq='D')\n",
    "full_df = pd.DataFrame(date_range, columns=['date'])\n",
    "df = pd.merge(full_df, df, on='date', how='left')\n",
    "df['price'] = df['price'].fillna(0)"
   ]
  },
  {
   "cell_type": "code",
   "execution_count": 489,
   "id": "e198fd5d-b9ee-4339-b091-d7f8f252104e",
   "metadata": {},
   "outputs": [],
   "source": [
    "df = df.groupby('date').agg({\n",
    "    'price': 'sum'\n",
    "}).rename(columns={'price': 'total_price'})\n",
    "df.reset_index(inplace=True)"
   ]
  },
  {
   "cell_type": "code",
   "execution_count": 490,
   "id": "305b36ba-5c2e-4a72-a05e-f2b4000b5012",
   "metadata": {},
   "outputs": [
    {
     "name": "stdout",
     "output_type": "stream",
     "text": [
      "date\n",
      "2023-07-31        1.00\n",
      "2023-08-31     8622.00\n",
      "2023-09-30    12227.00\n",
      "2023-10-31    29793.75\n",
      "2023-11-30    16482.00\n",
      "2023-12-31    33981.42\n",
      "2024-01-31    15499.00\n",
      "2024-02-29    12005.00\n",
      "2024-03-31    13837.00\n",
      "2024-04-30    12451.00\n",
      "2024-05-31    12845.55\n",
      "2024-06-30     6351.50\n",
      "2024-07-31    20122.99\n",
      "2024-08-31    20750.50\n",
      "2024-09-30    18315.00\n",
      "2024-10-31    75970.49\n",
      "2024-11-30    24122.19\n",
      "2024-12-31    15843.70\n",
      "2025-01-31    16507.34\n",
      "2025-02-28    21714.93\n",
      "2025-03-31    27978.28\n",
      "Freq: ME, Name: total_price, dtype: float64\n"
     ]
    }
   ],
   "source": [
    "df['date'] = pd.to_datetime(df['date'])\n",
    "df.set_index('date', inplace=True)\n",
    "\n",
    "# Extract Year-Month and compute average spending\n",
    "monthly_avg = df.resample('M')['total_price'].sum()\n",
    "\n",
    "# Print the result\n",
    "print(monthly_avg)"
   ]
  },
  {
   "cell_type": "code",
   "execution_count": 491,
   "id": "1807aac2-7689-4fe9-ab43-11ae8f82d7e1",
   "metadata": {},
   "outputs": [
    {
     "ename": "KeyError",
     "evalue": "'date'",
     "output_type": "error",
     "traceback": [
      "\u001b[1;31m---------------------------------------------------------------------------\u001b[0m",
      "\u001b[1;31mKeyError\u001b[0m                                  Traceback (most recent call last)",
      "File \u001b[1;32mD:\\Anaconda3\\envs\\tf_env\\lib\\site-packages\\pandas\\core\\indexes\\base.py:3805\u001b[0m, in \u001b[0;36mIndex.get_loc\u001b[1;34m(self, key)\u001b[0m\n\u001b[0;32m   3804\u001b[0m \u001b[38;5;28;01mtry\u001b[39;00m:\n\u001b[1;32m-> 3805\u001b[0m     \u001b[38;5;28;01mreturn\u001b[39;00m \u001b[38;5;28;43mself\u001b[39;49m\u001b[38;5;241;43m.\u001b[39;49m\u001b[43m_engine\u001b[49m\u001b[38;5;241;43m.\u001b[39;49m\u001b[43mget_loc\u001b[49m\u001b[43m(\u001b[49m\u001b[43mcasted_key\u001b[49m\u001b[43m)\u001b[49m\n\u001b[0;32m   3806\u001b[0m \u001b[38;5;28;01mexcept\u001b[39;00m \u001b[38;5;167;01mKeyError\u001b[39;00m \u001b[38;5;28;01mas\u001b[39;00m err:\n",
      "File \u001b[1;32mindex.pyx:167\u001b[0m, in \u001b[0;36mpandas._libs.index.IndexEngine.get_loc\u001b[1;34m()\u001b[0m\n",
      "File \u001b[1;32mindex.pyx:196\u001b[0m, in \u001b[0;36mpandas._libs.index.IndexEngine.get_loc\u001b[1;34m()\u001b[0m\n",
      "File \u001b[1;32mpandas\\\\_libs\\\\hashtable_class_helper.pxi:7081\u001b[0m, in \u001b[0;36mpandas._libs.hashtable.PyObjectHashTable.get_item\u001b[1;34m()\u001b[0m\n",
      "File \u001b[1;32mpandas\\\\_libs\\\\hashtable_class_helper.pxi:7089\u001b[0m, in \u001b[0;36mpandas._libs.hashtable.PyObjectHashTable.get_item\u001b[1;34m()\u001b[0m\n",
      "\u001b[1;31mKeyError\u001b[0m: 'date'",
      "\nThe above exception was the direct cause of the following exception:\n",
      "\u001b[1;31mKeyError\u001b[0m                                  Traceback (most recent call last)",
      "Cell \u001b[1;32mIn[491], line 21\u001b[0m\n\u001b[0;32m     17\u001b[0m         monthly_avg \u001b[38;5;241m=\u001b[39m \u001b[38;5;28msum\u001b[39m(monthly_spending[month_key]) \u001b[38;5;241m/\u001b[39m \u001b[38;5;28mlen\u001b[39m(monthly_spending[month_key])\n\u001b[0;32m     19\u001b[0m         df\u001b[38;5;241m.\u001b[39mat[idx, \u001b[38;5;124m'\u001b[39m\u001b[38;5;124mmonthly_avg\u001b[39m\u001b[38;5;124m'\u001b[39m] \u001b[38;5;241m=\u001b[39m monthly_avg\n\u001b[1;32m---> 21\u001b[0m \u001b[43mcalculate_monthly_avg\u001b[49m\u001b[43m(\u001b[49m\u001b[43mdf\u001b[49m\u001b[43m)\u001b[49m\n",
      "Cell \u001b[1;32mIn[491], line 4\u001b[0m, in \u001b[0;36mcalculate_monthly_avg\u001b[1;34m(df)\u001b[0m\n\u001b[0;32m      3\u001b[0m \u001b[38;5;28;01mdef\u001b[39;00m \u001b[38;5;21mcalculate_monthly_avg\u001b[39m(df):\n\u001b[1;32m----> 4\u001b[0m     df[\u001b[38;5;124m'\u001b[39m\u001b[38;5;124mdate\u001b[39m\u001b[38;5;124m'\u001b[39m] \u001b[38;5;241m=\u001b[39m pd\u001b[38;5;241m.\u001b[39mto_datetime(\u001b[43mdf\u001b[49m\u001b[43m[\u001b[49m\u001b[38;5;124;43m'\u001b[39;49m\u001b[38;5;124;43mdate\u001b[39;49m\u001b[38;5;124;43m'\u001b[39;49m\u001b[43m]\u001b[49m)\n\u001b[0;32m      5\u001b[0m     df[\u001b[38;5;124m'\u001b[39m\u001b[38;5;124mmonthly_avg\u001b[39m\u001b[38;5;124m'\u001b[39m] \u001b[38;5;241m=\u001b[39m \u001b[38;5;28;01mNone\u001b[39;00m\n\u001b[0;32m      6\u001b[0m     monthly_spending \u001b[38;5;241m=\u001b[39m {}\n",
      "File \u001b[1;32mD:\\Anaconda3\\envs\\tf_env\\lib\\site-packages\\pandas\\core\\frame.py:4102\u001b[0m, in \u001b[0;36mDataFrame.__getitem__\u001b[1;34m(self, key)\u001b[0m\n\u001b[0;32m   4100\u001b[0m \u001b[38;5;28;01mif\u001b[39;00m \u001b[38;5;28mself\u001b[39m\u001b[38;5;241m.\u001b[39mcolumns\u001b[38;5;241m.\u001b[39mnlevels \u001b[38;5;241m>\u001b[39m \u001b[38;5;241m1\u001b[39m:\n\u001b[0;32m   4101\u001b[0m     \u001b[38;5;28;01mreturn\u001b[39;00m \u001b[38;5;28mself\u001b[39m\u001b[38;5;241m.\u001b[39m_getitem_multilevel(key)\n\u001b[1;32m-> 4102\u001b[0m indexer \u001b[38;5;241m=\u001b[39m \u001b[38;5;28;43mself\u001b[39;49m\u001b[38;5;241;43m.\u001b[39;49m\u001b[43mcolumns\u001b[49m\u001b[38;5;241;43m.\u001b[39;49m\u001b[43mget_loc\u001b[49m\u001b[43m(\u001b[49m\u001b[43mkey\u001b[49m\u001b[43m)\u001b[49m\n\u001b[0;32m   4103\u001b[0m \u001b[38;5;28;01mif\u001b[39;00m is_integer(indexer):\n\u001b[0;32m   4104\u001b[0m     indexer \u001b[38;5;241m=\u001b[39m [indexer]\n",
      "File \u001b[1;32mD:\\Anaconda3\\envs\\tf_env\\lib\\site-packages\\pandas\\core\\indexes\\base.py:3812\u001b[0m, in \u001b[0;36mIndex.get_loc\u001b[1;34m(self, key)\u001b[0m\n\u001b[0;32m   3807\u001b[0m     \u001b[38;5;28;01mif\u001b[39;00m \u001b[38;5;28misinstance\u001b[39m(casted_key, \u001b[38;5;28mslice\u001b[39m) \u001b[38;5;129;01mor\u001b[39;00m (\n\u001b[0;32m   3808\u001b[0m         \u001b[38;5;28misinstance\u001b[39m(casted_key, abc\u001b[38;5;241m.\u001b[39mIterable)\n\u001b[0;32m   3809\u001b[0m         \u001b[38;5;129;01mand\u001b[39;00m \u001b[38;5;28many\u001b[39m(\u001b[38;5;28misinstance\u001b[39m(x, \u001b[38;5;28mslice\u001b[39m) \u001b[38;5;28;01mfor\u001b[39;00m x \u001b[38;5;129;01min\u001b[39;00m casted_key)\n\u001b[0;32m   3810\u001b[0m     ):\n\u001b[0;32m   3811\u001b[0m         \u001b[38;5;28;01mraise\u001b[39;00m InvalidIndexError(key)\n\u001b[1;32m-> 3812\u001b[0m     \u001b[38;5;28;01mraise\u001b[39;00m \u001b[38;5;167;01mKeyError\u001b[39;00m(key) \u001b[38;5;28;01mfrom\u001b[39;00m \u001b[38;5;21;01merr\u001b[39;00m\n\u001b[0;32m   3813\u001b[0m \u001b[38;5;28;01mexcept\u001b[39;00m \u001b[38;5;167;01mTypeError\u001b[39;00m:\n\u001b[0;32m   3814\u001b[0m     \u001b[38;5;66;03m# If we have a listlike key, _check_indexing_error will raise\u001b[39;00m\n\u001b[0;32m   3815\u001b[0m     \u001b[38;5;66;03m#  InvalidIndexError. Otherwise we fall through and re-raise\u001b[39;00m\n\u001b[0;32m   3816\u001b[0m     \u001b[38;5;66;03m#  the TypeError.\u001b[39;00m\n\u001b[0;32m   3817\u001b[0m     \u001b[38;5;28mself\u001b[39m\u001b[38;5;241m.\u001b[39m_check_indexing_error(key)\n",
      "\u001b[1;31mKeyError\u001b[0m: 'date'"
     ]
    }
   ],
   "source": [
    "import pandas as pd\n",
    "\n",
    "def calculate_monthly_avg(df):\n",
    "    df['date'] = pd.to_datetime(df['date'])\n",
    "    df['monthly_avg'] = None\n",
    "    monthly_spending = {}\n",
    "\n",
    "    for idx, row in df.iterrows():\n",
    "        current_month = row['date'].month\n",
    "        current_year = row['date'].year\n",
    "        month_key = (current_year, current_month)\n",
    "\n",
    "        if month_key not in monthly_spending:\n",
    "            monthly_spending[month_key] = []\n",
    "\n",
    "        monthly_spending[month_key].append(row['total_price'])\n",
    "        monthly_avg = sum(monthly_spending[month_key]) / len(monthly_spending[month_key])\n",
    "        \n",
    "        df.at[idx, 'monthly_avg'] = monthly_avg\n",
    "\n",
    "calculate_monthly_avg(df)\n"
   ]
  },
  {
   "cell_type": "code",
   "execution_count": 465,
   "id": "7cfda97c-1ccd-4702-9321-018c14e300af",
   "metadata": {},
   "outputs": [],
   "source": [
    "def extract_date_features(df, date_col):\n",
    "    df[date_col] = pd.to_datetime(df[date_col])\n",
    "    df['day_of_week'] = df[date_col].dt.dayofweek    \n",
    "    return df\n",
    "df = extract_date_features(df, 'date')\n",
    "encoder = OneHotEncoder(sparse_output=False)\n",
    "encoded_days = encoder.fit_transform(df[['day_of_week']])\n",
    "encoded_df = pd.DataFrame(encoded_days, columns=[f'day_of_week_{i}' for i in range(1, 8)])\n",
    "df = pd.concat([df, encoded_df], axis=1)\n",
    "df = df.drop(columns=['day_of_week'])\n"
   ]
  },
  {
   "cell_type": "code",
   "execution_count": 466,
   "id": "2777ba95-6a14-4172-ad50-aa995f62c416",
   "metadata": {},
   "outputs": [],
   "source": [
    "lag_values = [1, 2, 3, 4, 5, 6, 7, 14, 21, 28]\n",
    "for lag in lag_values:\n",
    "    df[f'lag_{lag}'] = sum([df['total_price'].shift(i) for i in range(1, lag+1)]) / lag"
   ]
  },
  {
   "cell_type": "code",
   "execution_count": 467,
   "id": "b5a49f04-fe8e-4889-b338-4491dc4a8ca3",
   "metadata": {},
   "outputs": [],
   "source": [
    "df.dropna(inplace=True)"
   ]
  },
  {
   "cell_type": "code",
   "execution_count": 468,
   "id": "a3e2af31-591a-4188-ba6b-35b8ee0fc281",
   "metadata": {},
   "outputs": [],
   "source": [
    "df.sort_values('date', inplace=True)\n",
    "df.set_index('date', inplace=True)"
   ]
  },
  {
   "cell_type": "code",
   "execution_count": 469,
   "id": "e36ca49d-c702-4f4e-afb6-bc98675f7fa7",
   "metadata": {},
   "outputs": [
    {
     "data": {
      "text/plain": [
       "count     573.000000\n",
       "mean      710.503735\n",
       "std      1277.167773\n",
       "min         0.000000\n",
       "25%        20.000000\n",
       "50%       255.000000\n",
       "75%       870.000000\n",
       "max      9615.000000\n",
       "Name: total_price, dtype: float64"
      ]
     },
     "execution_count": 469,
     "metadata": {},
     "output_type": "execute_result"
    }
   ],
   "source": [
    "df['total_price'].describe()"
   ]
  },
  {
   "cell_type": "code",
   "execution_count": 470,
   "id": "33368640-719b-4a1c-9c43-131b29a89f02",
   "metadata": {},
   "outputs": [
    {
     "data": {
      "text/plain": [
       "710.5037347294939"
      ]
     },
     "execution_count": 470,
     "metadata": {},
     "output_type": "execute_result"
    }
   ],
   "source": [
    "old_mean = df['total_price'].mean()\n",
    "old_mean"
   ]
  },
  {
   "cell_type": "code",
   "execution_count": 471,
   "id": "4b3dbc8b-f2dd-4bc8-b5f6-020a44fa210b",
   "metadata": {},
   "outputs": [],
   "source": [
    "filtered_df = df[df['total_price'] > 0]\n",
    "Q1 = filtered_df['total_price'].quantile(0.25)\n",
    "Q3 = filtered_df['total_price'].quantile(0.75)\n",
    "IQR = Q3-Q1\n",
    "original_values = df['total_price'].copy()\n",
    "df.loc[df['total_price'] > Q3 + IQR, 'total_price'] = Q3 + IQR"
   ]
  },
  {
   "cell_type": "code",
   "execution_count": 472,
   "id": "d97e8ff5-f893-4586-859b-97799bb8ee1c",
   "metadata": {},
   "outputs": [],
   "source": [
    "filtered_df = df[df['total_price'] > 0]"
   ]
  },
  {
   "cell_type": "code",
   "execution_count": 473,
   "id": "e0f9cd04-257c-4f8a-864e-e7769e0dcb29",
   "metadata": {},
   "outputs": [
    {
     "data": {
      "text/plain": [
       "537.1546945898779"
      ]
     },
     "execution_count": 473,
     "metadata": {},
     "output_type": "execute_result"
    }
   ],
   "source": [
    "new_mean = df['total_price'].mean()\n",
    "new_mean"
   ]
  },
  {
   "cell_type": "code",
   "execution_count": 474,
   "id": "a05361d1-9354-4edf-b87a-9e8459242a1b",
   "metadata": {},
   "outputs": [
    {
     "data": {
      "text/plain": [
       "180.0"
      ]
     },
     "execution_count": 474,
     "metadata": {},
     "output_type": "execute_result"
    }
   ],
   "source": [
    "Q1"
   ]
  },
  {
   "cell_type": "code",
   "execution_count": 475,
   "id": "a9ef54bc-bc44-4afb-971c-79e3d456f896",
   "metadata": {},
   "outputs": [
    {
     "data": {
      "text/plain": [
       "1101.5"
      ]
     },
     "execution_count": 475,
     "metadata": {},
     "output_type": "execute_result"
    }
   ],
   "source": [
    "Q3"
   ]
  },
  {
   "cell_type": "code",
   "execution_count": 476,
   "id": "19b23bd5-5b81-48fb-8ed7-f3a25aa70f1f",
   "metadata": {},
   "outputs": [
    {
     "data": {
      "text/plain": [
       "count     573.000000\n",
       "mean      537.154695\n",
       "std       640.863782\n",
       "min         0.000000\n",
       "25%        20.000000\n",
       "50%       255.000000\n",
       "75%       870.000000\n",
       "max      2023.000000\n",
       "Name: total_price, dtype: float64"
      ]
     },
     "execution_count": 476,
     "metadata": {},
     "output_type": "execute_result"
    }
   ],
   "source": [
    "df['total_price'].describe()"
   ]
  },
  {
   "cell_type": "code",
   "execution_count": 477,
   "id": "42980a9a-5507-4059-bac1-f15fd3604387",
   "metadata": {},
   "outputs": [],
   "source": [
    "x = df.drop(columns=['total_price'])\n",
    "y = df['total_price']\n",
    "scale_x = StandardScaler()\n",
    "scale_y = StandardScaler()\n",
    "x_scaled = scale_x.fit_transform(x)\n",
    "y_scaled = scale_y.fit_transform(y.values.reshape(-1,1))\n",
    "x_train, x_test, y_train, y_test = train_test_split(x_scaled, y_scaled, test_size=0.25, random_state=42)\n",
    "model = ElasticNet(\n",
    "    alpha=0.00005,\n",
    "    l1_ratio=0.75,\n",
    "    max_iter=200000,\n",
    "    tol=0.0001,\n",
    "    fit_intercept=True,\n",
    "    random_state=42\n",
    ")\n",
    "model.fit(x_train, y_train)\n",
    "y_pred = model.predict(x_test)\n",
    "y_pred_original = scale_y.inverse_transform(y_pred.reshape(-1,1))\n",
    "y_test_original = scale_y.inverse_transform(y_test.reshape(-1,1))"
   ]
  },
  {
   "cell_type": "code",
   "execution_count": 478,
   "id": "452634e1-1948-47ae-843c-641159fa4ca1",
   "metadata": {},
   "outputs": [],
   "source": [
    "mean_change = old_mean - new_mean"
   ]
  },
  {
   "cell_type": "code",
   "execution_count": 479,
   "id": "fec2e6c7-001b-4941-9c30-d9b6539b90db",
   "metadata": {},
   "outputs": [
    {
     "data": {
      "text/plain": [
       "173.34904013961602"
      ]
     },
     "execution_count": 479,
     "metadata": {},
     "output_type": "execute_result"
    }
   ],
   "source": [
    "mean_change"
   ]
  },
  {
   "cell_type": "code",
   "execution_count": 480,
   "id": "8726e1ce-15ae-4707-ae6e-8124cdb60b71",
   "metadata": {},
   "outputs": [],
   "source": [
    "l = []\n",
    "from calendar import monthrange\n",
    "\n",
    "last_date = df.index[-1]\n",
    "year, month = last_date.year, last_date.month \n",
    "days_in_month = monthrange(year, month)[1]\n",
    "from datetime import timedelta\n",
    "for i in range(days_in_month):\n",
    "    last_date = df.index[-1]\n",
    "    next_day = last_date + timedelta(days=1)\n",
    "    next_data = {}\n",
    "    current_month = next_day.month\n",
    "    monthly_data = df[df.index.month == current_month]\n",
    "    next_data['monthly_avg'] = monthly_data['total_price'].mean()\n",
    "    next_data['day_of_week_1'] = 1 if next_day.weekday() == 0 else 0\n",
    "    next_data['day_of_week_2'] = 1 if next_day.weekday() == 1 else 0\n",
    "    next_data['day_of_week_3'] = 1 if next_day.weekday() == 2 else 0\n",
    "    next_data['day_of_week_4'] = 1 if next_day.weekday() == 3 else 0\n",
    "    next_data['day_of_week_5'] = 1 if next_day.weekday() == 4 else 0\n",
    "    next_data['day_of_week_6'] = 1 if next_day.weekday() == 5 else 0\n",
    "    next_data['day_of_week_7'] = 1 if next_day.weekday() == 6 else 0\n",
    "    lags = [1, 2, 3, 4, 5, 6, 7, 14, 21, 28]\n",
    "    for lag in lags:\n",
    "        lag_value = df['total_price'].shift(lag).iloc[-1]\n",
    "        next_data[f'lag_{lag}'] = lag_value\n",
    "    next_data_df = pd.DataFrame([next_data], index=[next_day])\n",
    "    next_data_scaled = scale_x.transform(next_data_df)\n",
    "    predicted_value = model.predict(next_data_scaled)\n",
    "    predicted_value = scale_y.inverse_transform(predicted_value.reshape(-1, 1))\n",
    "    if predicted_value[0] < 10:\n",
    "        predicted_value[0] = 0\n",
    "\n",
    "    next_data_df['total_price'] = predicted_value[0]\n",
    "    df = pd.concat([df, next_data_df], axis=0)\n",
    "    l.append((predicted_value[0], next_day.weekday()))\n"
   ]
  },
  {
   "cell_type": "code",
   "execution_count": 481,
   "id": "73c88243-b867-4e2d-8f9a-d924e441e229",
   "metadata": {},
   "outputs": [
    {
     "data": {
      "text/plain": [
       "[(array([973.82853866]), 5),\n",
       " (array([0.]), 6),\n",
       " (array([1520.48840725]), 0),\n",
       " (array([0.]), 1),\n",
       " (array([1257.79100376]), 2),\n",
       " (array([89.75940416]), 3),\n",
       " (array([748.50510044]), 4),\n",
       " (array([835.76303753]), 5),\n",
       " (array([0.]), 6),\n",
       " (array([646.23531687]), 0),\n",
       " (array([0.]), 1),\n",
       " (array([885.5592152]), 2),\n",
       " (array([582.7912401]), 3),\n",
       " (array([519.62376957]), 4),\n",
       " (array([1068.89673773]), 5),\n",
       " (array([0.]), 6),\n",
       " (array([345.58079985]), 0),\n",
       " (array([0.]), 1),\n",
       " (array([643.21837248]), 2),\n",
       " (array([128.10159273]), 3),\n",
       " (array([0.]), 4),\n",
       " (array([222.38190014]), 5),\n",
       " (array([0.]), 6),\n",
       " (array([694.70221851]), 0),\n",
       " (array([0.]), 1),\n",
       " (array([613.4094005]), 2),\n",
       " (array([0.]), 3),\n",
       " (array([268.96336693]), 4),\n",
       " (array([607.70452687]), 5),\n",
       " (array([81.9047264]), 6),\n",
       " (array([839.94539884]), 0)]"
      ]
     },
     "execution_count": 481,
     "metadata": {},
     "output_type": "execute_result"
    }
   ],
   "source": [
    "l"
   ]
  },
  {
   "cell_type": "code",
   "execution_count": 482,
   "id": "04cd495b-9b31-4c44-90c2-9c6f5a1735e1",
   "metadata": {},
   "outputs": [],
   "source": [
    "sum_ = sum([item[0] for item in l])+days_in_month*mean_change\n",
    "average = sum_ / len(l) if len(l) > 0 else 0"
   ]
  },
  {
   "cell_type": "code",
   "execution_count": 483,
   "id": "82e2a2b8-ed95-4943-86c5-4718c314015a",
   "metadata": {},
   "outputs": [
    {
     "data": {
      "text/plain": [
       "array([18948.97431886])"
      ]
     },
     "execution_count": 483,
     "metadata": {},
     "output_type": "execute_result"
    }
   ],
   "source": [
    "sum_"
   ]
  },
  {
   "cell_type": "code",
   "execution_count": 484,
   "id": "ee8b4f62-63b9-4f5f-99b6-67840b4b1df7",
   "metadata": {},
   "outputs": [
    {
     "data": {
      "text/plain": [
       "array([611.25723609])"
      ]
     },
     "execution_count": 484,
     "metadata": {},
     "output_type": "execute_result"
    }
   ],
   "source": [
    "average"
   ]
  },
  {
   "cell_type": "code",
   "execution_count": null,
   "id": "f9399a59-e21e-474d-9d5c-fc87da92f258",
   "metadata": {},
   "outputs": [],
   "source": []
  },
  {
   "cell_type": "code",
   "execution_count": 381,
   "id": "783395f8-7dcf-4133-94e0-a73efa1d24b5",
   "metadata": {},
   "outputs": [],
   "source": [
    "#MANAGMENT"
   ]
  },
  {
   "cell_type": "code",
   "execution_count": 382,
   "id": "66216096-60ad-466e-9ad6-a7e2966aff0a",
   "metadata": {},
   "outputs": [
    {
     "name": "stdin",
     "output_type": "stream",
     "text": [
      " 3\n"
     ]
    }
   ],
   "source": [
    "monthly_expense = int(input(''))"
   ]
  },
  {
   "cell_type": "code",
   "execution_count": 395,
   "id": "4c6c0838-49b8-4c67-875c-93e87902f5ea",
   "metadata": {},
   "outputs": [
    {
     "data": {
      "text/plain": [
       "array([2410.27093941])"
      ]
     },
     "execution_count": 395,
     "metadata": {},
     "output_type": "execute_result"
    }
   ],
   "source": [
    "excess = sum_ - monthly_expense\n",
    "excess"
   ]
  },
  {
   "cell_type": "code",
   "execution_count": 397,
   "id": "c81f9ee0-1b4b-44ea-9463-5e2ad68d658d",
   "metadata": {},
   "outputs": [
    {
     "data": {
      "text/plain": [
       "array([80.34236465])"
      ]
     },
     "execution_count": 397,
     "metadata": {},
     "output_type": "execute_result"
    }
   ],
   "source": [
    "day_excess = excess/30\n",
    "day_excess"
   ]
  },
  {
   "cell_type": "code",
   "execution_count": 400,
   "id": "b9b215c7-9322-4f2a-93a9-3d82223c6fe0",
   "metadata": {},
   "outputs": [
    {
     "name": "stdin",
     "output_type": "stream",
     "text": [
      " 9:30:00\n"
     ]
    },
    {
     "name": "stdout",
     "output_type": "stream",
     "text": [
      "You entered the time: 09:30:00\n"
     ]
    }
   ],
   "source": [
    "#Enter time in HH:MM:SS format: \n",
    "from datetime import datetime\n",
    "breakfast_time = input(\"\")\n",
    "try:\n",
    "    time = datetime.strptime(breakfast_time, '%H:%M:%S').time()\n",
    "    print(\"You entered the time:\", time)\n",
    "except ValueError:\n",
    "    print(\"Invalid time format. Please enter time in HH:MM:SS format.\")"
   ]
  },
  {
   "cell_type": "code",
   "execution_count": 401,
   "id": "c2b2da81-3bad-4213-a703-e3c17ab36fe7",
   "metadata": {},
   "outputs": [
    {
     "name": "stdin",
     "output_type": "stream",
     "text": [
      " 2:30:00\n"
     ]
    },
    {
     "name": "stdout",
     "output_type": "stream",
     "text": [
      "You entered the time: 02:30:00\n"
     ]
    }
   ],
   "source": [
    "#Enter time in HH:MM:SS format: \n",
    "from datetime import datetime\n",
    "lunch_time = input(\"\")\n",
    "try:\n",
    "    time = datetime.strptime(lunch_time, '%H:%M:%S').time()\n",
    "    print(\"You entered the time:\", time)\n",
    "except ValueError:\n",
    "    print(\"Invalid time format. Please enter time in HH:MM:SS format.\")"
   ]
  },
  {
   "cell_type": "code",
   "execution_count": 402,
   "id": "d238926e-78ac-44c9-b49f-a321f0b92495",
   "metadata": {},
   "outputs": [
    {
     "name": "stdin",
     "output_type": "stream",
     "text": [
      " 22:00:00\n"
     ]
    },
    {
     "name": "stdout",
     "output_type": "stream",
     "text": [
      "You entered the time: 22:00:00\n"
     ]
    }
   ],
   "source": [
    "#Enter time in HH:MM:SS format: \n",
    "from datetime import datetime\n",
    "dinner_time = input(\"\")\n",
    "try:\n",
    "    time = datetime.strptime(dinner_time, '%H:%M:%S').time()\n",
    "    print(\"You entered the time:\", time)\n",
    "except ValueError:\n",
    "    print(\"Invalid time format. Please enter time in HH:MM:SS format.\")"
   ]
  },
  {
   "cell_type": "code",
   "execution_count": null,
   "id": "f425f29a-4963-405a-9f2d-c7eced77874a",
   "metadata": {},
   "outputs": [],
   "source": []
  },
  {
   "cell_type": "code",
   "execution_count": null,
   "id": "ae01b4e2-5586-4d29-a42e-71ffe899344d",
   "metadata": {},
   "outputs": [],
   "source": [
    "\n",
    "degree = 4\n",
    "poly = PolynomialFeatures(degree=degree)\n",
    "x_poly = poly.fit_transform(x_train)\n",
    "\n",
    "\n",
    "    next_data_scaled = poly.transform(next_data_scaled)"
   ]
  }
 ],
 "metadata": {
  "kernelspec": {
   "display_name": "Python 3 (ipykernel)",
   "language": "python",
   "name": "python3"
  },
  "language_info": {
   "codemirror_mode": {
    "name": "ipython",
    "version": 3
   },
   "file_extension": ".py",
   "mimetype": "text/x-python",
   "name": "python",
   "nbconvert_exporter": "python",
   "pygments_lexer": "ipython3",
   "version": "3.10.13"
  }
 },
 "nbformat": 4,
 "nbformat_minor": 5
}
