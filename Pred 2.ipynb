{
 "cells": [
  {
   "cell_type": "code",
   "execution_count": 1,
   "id": "2e14b70c-8e0d-47f4-a2d8-c3d62473a93d",
   "metadata": {},
   "outputs": [],
   "source": [
    "import tensorflow as tf\n",
    "import pandas as pd\n",
    "import numpy as np\n",
    "from tensorflow import keras\n",
    "from keras.layers import Dense, Dropout, LSTM\n",
    "from keras.models import Sequential\n",
    "from keras.regularizers import l1_l2, l2\n",
    "from keras.optimizers import Adam\n",
    "from keras.initializers import HeNormal\n",
    "from keras.callbacks import EarlyStopping, ReduceLROnPlateau\n",
    "\n",
    "import sklearn\n",
    "from sklearn.model_selection import train_test_split, KFold\n",
    "from sklearn.preprocessing import MinMaxScaler, StandardScaler, OneHotEncoder, PolynomialFeatures\n",
    "from sklearn.metrics import mean_squared_error, mean_absolute_error\n",
    "from sklearn.linear_model import Ridge, Lasso, LinearRegression\n",
    "from sklearn.tree import DecisionTreeRegressor\n",
    "from sklearn.ensemble import RandomForestRegressor\n",
    "from sklearn.svm import SVR\n",
    "\n",
    "import warnings\n",
    "warnings.filterwarnings('ignore')"
   ]
  },
  {
   "cell_type": "code",
   "execution_count": 210,
   "id": "f80de278-de9a-47c1-8f63-2de9fe1d0772",
   "metadata": {},
   "outputs": [
    {
     "data": {
      "text/html": [
       "<div>\n",
       "<style scoped>\n",
       "    .dataframe tbody tr th:only-of-type {\n",
       "        vertical-align: middle;\n",
       "    }\n",
       "\n",
       "    .dataframe tbody tr th {\n",
       "        vertical-align: top;\n",
       "    }\n",
       "\n",
       "    .dataframe thead th {\n",
       "        text-align: right;\n",
       "    }\n",
       "</style>\n",
       "<table border=\"1\" class=\"dataframe\">\n",
       "  <thead>\n",
       "    <tr style=\"text-align: right;\">\n",
       "      <th></th>\n",
       "      <th>Unnamed: 0</th>\n",
       "      <th>date</th>\n",
       "      <th>amount</th>\n",
       "    </tr>\n",
       "  </thead>\n",
       "  <tbody>\n",
       "    <tr>\n",
       "      <th>0</th>\n",
       "      <td>0</td>\n",
       "      <td>Jul 30, 2023</td>\n",
       "      <td>1.0</td>\n",
       "    </tr>\n",
       "    <tr>\n",
       "      <th>1</th>\n",
       "      <td>1</td>\n",
       "      <td>Aug 01, 2023</td>\n",
       "      <td>583.0</td>\n",
       "    </tr>\n",
       "    <tr>\n",
       "      <th>2</th>\n",
       "      <td>2</td>\n",
       "      <td>Aug 01, 2023</td>\n",
       "      <td>93.0</td>\n",
       "    </tr>\n",
       "    <tr>\n",
       "      <th>3</th>\n",
       "      <td>3</td>\n",
       "      <td>Aug 04, 2023</td>\n",
       "      <td>454.0</td>\n",
       "    </tr>\n",
       "    <tr>\n",
       "      <th>4</th>\n",
       "      <td>4</td>\n",
       "      <td>Aug 09, 2023</td>\n",
       "      <td>5500.0</td>\n",
       "    </tr>\n",
       "  </tbody>\n",
       "</table>\n",
       "</div>"
      ],
      "text/plain": [
       "   Unnamed: 0          date  amount\n",
       "0           0  Jul 30, 2023     1.0\n",
       "1           1  Aug 01, 2023   583.0\n",
       "2           2  Aug 01, 2023    93.0\n",
       "3           3  Aug 04, 2023   454.0\n",
       "4           4  Aug 09, 2023  5500.0"
      ]
     },
     "execution_count": 210,
     "metadata": {},
     "output_type": "execute_result"
    }
   ],
   "source": [
    "df = pd.read_csv('veda_mc.csv')\n",
    "df.head()"
   ]
  },
  {
   "cell_type": "code",
   "execution_count": 211,
   "id": "ae452c6b-fb64-4688-a3a6-52e6c866b851",
   "metadata": {},
   "outputs": [],
   "source": [
    "df = df.drop(columns=['Unnamed: 0'])"
   ]
  },
  {
   "cell_type": "code",
   "execution_count": 212,
   "id": "c5dc5d9f-3b97-4d97-b1ad-db6b719d3405",
   "metadata": {},
   "outputs": [],
   "source": [
    "df = df.rename(columns = {'date': 'date',\n",
    "          'amount': 'price'})"
   ]
  },
  {
   "cell_type": "code",
   "execution_count": 213,
   "id": "876a01df-b9b0-44e7-bd0a-0e05924fb3dc",
   "metadata": {},
   "outputs": [],
   "source": [
    "df['date'] = pd.to_datetime(df['date'])\n",
    "date_range = pd.date_range(start=df['date'].min(), end=df['date'].max(), freq='D')\n",
    "full_df = pd.DataFrame(date_range, columns=['date'])\n",
    "df = pd.merge(full_df, df, on='date', how='left')\n",
    "df['price'] = df['price'].fillna(0)"
   ]
  },
  {
   "cell_type": "code",
   "execution_count": 214,
   "id": "e198fd5d-b9ee-4339-b091-d7f8f252104e",
   "metadata": {},
   "outputs": [],
   "source": [
    "df = df.groupby('date').agg({\n",
    "    'price': 'sum'\n",
    "}).rename(columns={'price': 'total_price'})\n",
    "df.reset_index(inplace=True)"
   ]
  },
  {
   "cell_type": "code",
   "execution_count": 215,
   "id": "724260dd-078c-4672-b817-ea0fdb553a73",
   "metadata": {},
   "outputs": [],
   "source": [
    "df1 = df.copy()\n",
    "df1['date'] = pd.to_datetime(df1['date'])"
   ]
  },
  {
   "cell_type": "code",
   "execution_count": 216,
   "id": "1807aac2-7689-4fe9-ab43-11ae8f82d7e1",
   "metadata": {},
   "outputs": [],
   "source": [
    "import pandas as pd\n",
    "\n",
    "def calculate_monthly_avg(df):\n",
    "    df['date'] = pd.to_datetime(df['date'])\n",
    "    df['monthly_avg'] = None\n",
    "    monthly_spending = {}\n",
    "\n",
    "    for idx, row in df.iterrows():\n",
    "        current_month = row['date'].month\n",
    "        current_year = row['date'].year\n",
    "        month_key = (current_year, current_month)\n",
    "\n",
    "        if month_key not in monthly_spending:\n",
    "            monthly_spending[month_key] = []\n",
    "\n",
    "        monthly_spending[month_key].append(row['total_price'])\n",
    "        monthly_avg = sum(monthly_spending[month_key]) / len(monthly_spending[month_key])\n",
    "        \n",
    "        df.at[idx, 'monthly_avg'] = monthly_avg\n",
    "\n",
    "calculate_monthly_avg(df)\n"
   ]
  },
  {
   "cell_type": "code",
   "execution_count": 217,
   "id": "7cfda97c-1ccd-4702-9321-018c14e300af",
   "metadata": {},
   "outputs": [],
   "source": [
    "def extract_date_features(df, date_col):\n",
    "    df[date_col] = pd.to_datetime(df[date_col])\n",
    "    df['day_of_week'] = df[date_col].dt.dayofweek    \n",
    "    return df\n",
    "df = extract_date_features(df, 'date')\n",
    "encoder = OneHotEncoder(sparse_output=False)\n",
    "encoded_days = encoder.fit_transform(df[['day_of_week']])\n",
    "encoded_df = pd.DataFrame(encoded_days, columns=[f'day_of_week_{i}' for i in range(1, 8)])\n",
    "df = pd.concat([df, encoded_df], axis=1)\n",
    "df = df.drop(columns=['day_of_week'])\n"
   ]
  },
  {
   "cell_type": "code",
   "execution_count": 218,
   "id": "2777ba95-6a14-4172-ad50-aa995f62c416",
   "metadata": {},
   "outputs": [],
   "source": [
    "lag_values = [1, 2, 3, 4, 5, 6, 7, 14, 21, 28]\n",
    "for lag in lag_values:\n",
    "    df[f'lag_{lag}'] = sum([df['total_price'].shift(i) for i in range(1, lag+1)]) / lag"
   ]
  },
  {
   "cell_type": "code",
   "execution_count": 219,
   "id": "b5a49f04-fe8e-4889-b338-4491dc4a8ca3",
   "metadata": {},
   "outputs": [],
   "source": [
    "df.dropna(inplace=True)"
   ]
  },
  {
   "cell_type": "code",
   "execution_count": 220,
   "id": "a3e2af31-591a-4188-ba6b-35b8ee0fc281",
   "metadata": {},
   "outputs": [],
   "source": [
    "df.sort_values('date', inplace=True)\n",
    "df.set_index('date', inplace=True)"
   ]
  },
  {
   "cell_type": "code",
   "execution_count": 221,
   "id": "69fbd336-75db-4fbb-b44d-68dd6602cfc2",
   "metadata": {},
   "outputs": [],
   "source": [
    "df['total_price'] = df['total_price'].apply(lambda x: min(x, 500))"
   ]
  },
  {
   "cell_type": "code",
   "execution_count": 222,
   "id": "8726e1ce-15ae-4707-ae6e-8124cdb60b71",
   "metadata": {},
   "outputs": [],
   "source": [
    "l = []\n",
    "for i in range(30):\n",
    "    x = df.drop(columns=['total_price'])\n",
    "    y = df['total_price']\n",
    "    scale_x = StandardScaler()\n",
    "    scale_y = StandardScaler()\n",
    "    x_scaled = scale_x.fit_transform(x)\n",
    "    y_scaled = scale_y.fit_transform(y.values.reshape(-1,1))\n",
    "    x_train, x_test, y_train, y_test = train_test_split(x_scaled, y_scaled, test_size=0.2, random_state=42)\n",
    "    degree = 4\n",
    "    poly = PolynomialFeatures(degree=degree)\n",
    "    x_poly = poly.fit_transform(x_train)\n",
    "    model = Lasso(alpha=0.00275, max_iter=100, tol=0.0001, fit_intercept=True, warm_start=False, selection='random')\n",
    "    model.fit(x_poly, y_train)\n",
    "    x_test_poly = poly.transform(x_test)\n",
    "    y_pred = model.predict(x_test_poly)\n",
    "    y_pred_original = scale_y.inverse_transform(y_pred.reshape(-1,1))\n",
    "    y_test_original = scale_y.inverse_transform(y_test.reshape(-1,1))\n",
    "    from datetime import timedelta\n",
    "    last_date = df.index[-1]\n",
    "    next_day = last_date + timedelta(days=1)\n",
    "    next_data = {}\n",
    "    current_month = next_day.month\n",
    "    monthly_data = df[df.index.month == current_month]\n",
    "    next_data['monthly_avg'] = monthly_data['total_price'].mean()\n",
    "    next_data['day_of_week_1'] = 1 if next_day.weekday() == 0 else 0\n",
    "    next_data['day_of_week_2'] = 1 if next_day.weekday() == 1 else 0\n",
    "    next_data['day_of_week_3'] = 1 if next_day.weekday() == 2 else 0\n",
    "    next_data['day_of_week_4'] = 1 if next_day.weekday() == 3 else 0\n",
    "    next_data['day_of_week_5'] = 1 if next_day.weekday() == 4 else 0\n",
    "    next_data['day_of_week_6'] = 1 if next_day.weekday() == 5 else 0\n",
    "    next_data['day_of_week_7'] = 1 if next_day.weekday() == 6 else 0\n",
    "    lags = [1, 2, 3, 4, 5, 6, 7, 14, 21, 28]\n",
    "    for lag in lags:\n",
    "        lag_value = df['total_price'].shift(lag).iloc[-1]\n",
    "        next_data[f'lag_{lag}'] = lag_value\n",
    "    next_data_df = pd.DataFrame([next_data], index=[next_day])\n",
    "    next_data_scaled = scale_x.transform(next_data_df)\n",
    "    next_data_scaled = poly.transform(next_data_scaled)\n",
    "    predicted_value = model.predict(next_data_scaled)\n",
    "    predicted_value = scale_y.inverse_transform(predicted_value.reshape(-1, 1))\n",
    "    if predicted_value[0] < 0:\n",
    "        predicted_value[0] = 0\n",
    "\n",
    "    next_data_df['total_price'] = predicted_value[0]\n",
    "\n",
    "    # Append the prediction to the dataframe\n",
    "    df = pd.concat([df, next_data_df], axis=0)\n",
    "\n",
    "    # Store the prediction and the day of the week\n",
    "    l.append((predicted_value[0], next_day.weekday()))\n"
   ]
  },
  {
   "cell_type": "code",
   "execution_count": 223,
   "id": "73c88243-b867-4e2d-8f9a-d924e441e229",
   "metadata": {},
   "outputs": [
    {
     "data": {
      "text/plain": [
       "[(array([343.82943976]), 5),\n",
       " (array([50.14272754]), 6),\n",
       " (array([157.66226229]), 0),\n",
       " (array([200.29161717]), 1),\n",
       " (array([602.6320279]), 2),\n",
       " (array([102.31631301]), 3),\n",
       " (array([5.07119223]), 4),\n",
       " (array([130.35925643]), 5),\n",
       " (array([0.]), 6),\n",
       " (array([52.46864262]), 0),\n",
       " (array([127.87278845]), 1),\n",
       " (array([458.40376561]), 2),\n",
       " (array([141.57271994]), 3),\n",
       " (array([238.33304877]), 4),\n",
       " (array([271.79312445]), 5),\n",
       " (array([0.]), 6),\n",
       " (array([214.31715173]), 0),\n",
       " (array([89.09055553]), 1),\n",
       " (array([473.04731975]), 2),\n",
       " (array([149.26480471]), 3),\n",
       " (array([199.08270196]), 4),\n",
       " (array([68.18557703]), 5),\n",
       " (array([77.90150539]), 6),\n",
       " (array([395.48105745]), 0),\n",
       " (array([187.99008811]), 1),\n",
       " (array([158.28292638]), 2),\n",
       " (array([139.13254534]), 3),\n",
       " (array([152.28062056]), 4),\n",
       " (array([0.]), 5),\n",
       " (array([164.22610957]), 6)]"
      ]
     },
     "execution_count": 223,
     "metadata": {},
     "output_type": "execute_result"
    }
   ],
   "source": [
    "l"
   ]
  },
  {
   "cell_type": "code",
   "execution_count": 224,
   "id": "04cd495b-9b31-4c44-90c2-9c6f5a1735e1",
   "metadata": {},
   "outputs": [],
   "source": [
    "sum_ = sum([item[0] for item in l])\n",
    "average = sum_ / len(l) if len(l) > 0 else 0"
   ]
  },
  {
   "cell_type": "code",
   "execution_count": 225,
   "id": "82e2a2b8-ed95-4943-86c5-4718c314015a",
   "metadata": {},
   "outputs": [
    {
     "data": {
      "text/plain": [
       "array([5351.03188967])"
      ]
     },
     "execution_count": 225,
     "metadata": {},
     "output_type": "execute_result"
    }
   ],
   "source": [
    "sum_"
   ]
  },
  {
   "cell_type": "code",
   "execution_count": 226,
   "id": "ee8b4f62-63b9-4f5f-99b6-67840b4b1df7",
   "metadata": {},
   "outputs": [
    {
     "data": {
      "text/plain": [
       "array([178.36772966])"
      ]
     },
     "execution_count": 226,
     "metadata": {},
     "output_type": "execute_result"
    }
   ],
   "source": [
    "average"
   ]
  },
  {
   "cell_type": "code",
   "execution_count": 227,
   "id": "1e2969a9-0afa-46d7-ab42-25581fa2a526",
   "metadata": {},
   "outputs": [
    {
     "data": {
      "text/plain": [
       "121"
      ]
     },
     "execution_count": 227,
     "metadata": {},
     "output_type": "execute_result"
    }
   ],
   "source": [
    "121"
   ]
  },
  {
   "cell_type": "code",
   "execution_count": null,
   "id": "c478a101-0a28-4c75-8d9c-0f0bb01b0832",
   "metadata": {},
   "outputs": [],
   "source": []
  },
  {
   "cell_type": "code",
   "execution_count": null,
   "id": "f9399a59-e21e-474d-9d5c-fc87da92f258",
   "metadata": {},
   "outputs": [],
   "source": []
  },
  {
   "cell_type": "code",
   "execution_count": null,
   "id": "f425f29a-4963-405a-9f2d-c7eced77874a",
   "metadata": {},
   "outputs": [],
   "source": []
  },
  {
   "cell_type": "code",
   "execution_count": null,
   "id": "ae01b4e2-5586-4d29-a42e-71ffe899344d",
   "metadata": {},
   "outputs": [],
   "source": []
  }
 ],
 "metadata": {
  "kernelspec": {
   "display_name": "Python 3 (ipykernel)",
   "language": "python",
   "name": "python3"
  },
  "language_info": {
   "codemirror_mode": {
    "name": "ipython",
    "version": 3
   },
   "file_extension": ".py",
   "mimetype": "text/x-python",
   "name": "python",
   "nbconvert_exporter": "python",
   "pygments_lexer": "ipython3",
   "version": "3.10.13"
  }
 },
 "nbformat": 4,
 "nbformat_minor": 5
}
