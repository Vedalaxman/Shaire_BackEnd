{
 "cells": [
  {
   "cell_type": "code",
   "execution_count": 1,
   "id": "2e14b70c-8e0d-47f4-a2d8-c3d62473a93d",
   "metadata": {},
   "outputs": [],
   "source": [
    "import tensorflow as tf\n",
    "import pandas as pd\n",
    "import numpy as np\n",
    "from tensorflow import keras\n",
    "from keras.layers import Dense, Dropout, LSTM\n",
    "from keras.models import Sequential\n",
    "from keras.regularizers import l1_l2, l2\n",
    "from keras.optimizers import Adam\n",
    "from keras.initializers import HeNormal\n",
    "from keras.callbacks import EarlyStopping, ReduceLROnPlateau\n",
    "\n",
    "import sklearn\n",
    "from sklearn.model_selection import train_test_split, KFold\n",
    "from sklearn.preprocessing import MinMaxScaler, StandardScaler, OneHotEncoder, PolynomialFeatures\n",
    "from sklearn.metrics import mean_squared_error, mean_absolute_error\n",
    "from sklearn.linear_model import Ridge, Lasso, LinearRegression, ElasticNet\n",
    "from sklearn.tree import DecisionTreeRegressor\n",
    "from sklearn.ensemble import RandomForestRegressor\n",
    "from sklearn.svm import SVR\n",
    "\n",
    "import warnings\n",
    "warnings.filterwarnings('ignore')"
   ]
  },
  {
   "cell_type": "code",
   "execution_count": 29,
   "id": "f80de278-de9a-47c1-8f63-2de9fe1d0772",
   "metadata": {},
   "outputs": [
    {
     "data": {
      "text/html": [
       "<div>\n",
       "<style scoped>\n",
       "    .dataframe tbody tr th:only-of-type {\n",
       "        vertical-align: middle;\n",
       "    }\n",
       "\n",
       "    .dataframe tbody tr th {\n",
       "        vertical-align: top;\n",
       "    }\n",
       "\n",
       "    .dataframe thead th {\n",
       "        text-align: right;\n",
       "    }\n",
       "</style>\n",
       "<table border=\"1\" class=\"dataframe\">\n",
       "  <thead>\n",
       "    <tr style=\"text-align: right;\">\n",
       "      <th></th>\n",
       "      <th>Unnamed: 0</th>\n",
       "      <th>date</th>\n",
       "      <th>amount</th>\n",
       "    </tr>\n",
       "  </thead>\n",
       "  <tbody>\n",
       "    <tr>\n",
       "      <th>0</th>\n",
       "      <td>0</td>\n",
       "      <td>Jul 30, 2023</td>\n",
       "      <td>1.0</td>\n",
       "    </tr>\n",
       "    <tr>\n",
       "      <th>1</th>\n",
       "      <td>1</td>\n",
       "      <td>Aug 01, 2023</td>\n",
       "      <td>583.0</td>\n",
       "    </tr>\n",
       "    <tr>\n",
       "      <th>2</th>\n",
       "      <td>2</td>\n",
       "      <td>Aug 01, 2023</td>\n",
       "      <td>93.0</td>\n",
       "    </tr>\n",
       "    <tr>\n",
       "      <th>3</th>\n",
       "      <td>3</td>\n",
       "      <td>Aug 04, 2023</td>\n",
       "      <td>454.0</td>\n",
       "    </tr>\n",
       "    <tr>\n",
       "      <th>4</th>\n",
       "      <td>4</td>\n",
       "      <td>Aug 09, 2023</td>\n",
       "      <td>5500.0</td>\n",
       "    </tr>\n",
       "  </tbody>\n",
       "</table>\n",
       "</div>"
      ],
      "text/plain": [
       "   Unnamed: 0          date  amount\n",
       "0           0  Jul 30, 2023     1.0\n",
       "1           1  Aug 01, 2023   583.0\n",
       "2           2  Aug 01, 2023    93.0\n",
       "3           3  Aug 04, 2023   454.0\n",
       "4           4  Aug 09, 2023  5500.0"
      ]
     },
     "execution_count": 29,
     "metadata": {},
     "output_type": "execute_result"
    }
   ],
   "source": [
    "df = pd.read_csv('veda_mc.csv')\n",
    "df.head()"
   ]
  },
  {
   "cell_type": "code",
   "execution_count": 30,
   "id": "ae452c6b-fb64-4688-a3a6-52e6c866b851",
   "metadata": {},
   "outputs": [],
   "source": [
    "df = df.drop(columns=['Unnamed: 0'])"
   ]
  },
  {
   "cell_type": "code",
   "execution_count": 31,
   "id": "c5dc5d9f-3b97-4d97-b1ad-db6b719d3405",
   "metadata": {},
   "outputs": [],
   "source": [
    "df = df.rename(columns = {'date': 'date',\n",
    "          'amount': 'price'})"
   ]
  },
  {
   "cell_type": "code",
   "execution_count": 32,
   "id": "f6b66429-795c-4f93-abf1-1f41a42f010d",
   "metadata": {},
   "outputs": [
    {
     "data": {
      "text/plain": [
       "(1198, 2)"
      ]
     },
     "execution_count": 32,
     "metadata": {},
     "output_type": "execute_result"
    }
   ],
   "source": [
    "df.shape"
   ]
  },
  {
   "cell_type": "code",
   "execution_count": 33,
   "id": "dc661467-d9d3-4e91-bf67-b56433a42c55",
   "metadata": {},
   "outputs": [],
   "source": [
    "import pandas as pd\n",
    "from sklearn.preprocessing import OneHotEncoder\n",
    "\n",
    "class DataPreprocessor:\n",
    "    def __init__(self):\n",
    "        self.encoder = None\n",
    "        self.feature_names = None\n",
    "    \n",
    "    @staticmethod\n",
    "    def preprocess(df):\n",
    "        df['date'] = pd.to_datetime(df['date'])\n",
    "        date_range = pd.date_range(start=df['date'].min(), end=df['date'].max(), freq='D')\n",
    "        df = (pd.DataFrame(date_range, columns=['date'])\n",
    "              .merge(df, on='date', how='left')\n",
    "              .fillna({'price': 0}))\n",
    "        df = df.groupby('date')['price'].sum().rename('total_price').reset_index()\n",
    "        \n",
    "        # Monthly cumulative average calculation\n",
    "        df['year_month'] = df['date'].dt.to_period('M')\n",
    "        df['day'] = df['date'].dt.day\n",
    "        df['monthly_avg'] = df.groupby('year_month')['total_price'].expanding().mean().reset_index(level=0, drop=True)\n",
    "        df.drop(columns=['year_month', 'day'], inplace=True)\n",
    "        \n",
    "        df['day_of_week'] = df['date'].dt.dayofweek\n",
    "        encoder = OneHotEncoder(sparse_output=False)\n",
    "        encoded_days = encoder.fit_transform(df[['day_of_week']])\n",
    "        encoded_df = pd.DataFrame(encoded_days, \n",
    "                                  columns=[f'day_of_week_{i}' for i in range(encoded_days.shape[1])])\n",
    "        df = pd.concat([df, encoded_df], axis=1).drop(columns=['day_of_week'])\n",
    "        \n",
    "        lag_values = [1, 2, 3, 4, 5, 6, 7, 14, 21, 28]\n",
    "        for lag in lag_values:\n",
    "            df[f'lag_{lag}'] = df['total_price'].rolling(lag).mean().shift(1)\n",
    "        \n",
    "        df = df.dropna().sort_values('date').set_index('date')\n",
    "        \n",
    "        # Compute old mean before outlier removal\n",
    "        old_mean = df['total_price'].mean()\n",
    "        \n",
    "        # Outlier removal using IQR\n",
    "        filtered_df = df[df['total_price'] > 0]\n",
    "        Q1 = filtered_df['total_price'].quantile(0.25)\n",
    "        Q3 = filtered_df['total_price'].quantile(0.75)\n",
    "        IQR = Q3 - Q1\n",
    "        df.loc[df['total_price'] > Q3 + 1.5*IQR, 'total_price'] = Q3 + 1.5*IQR\n",
    "        \n",
    "        # Compute new mean after outlier removal\n",
    "        new_mean = df['total_price'].mean()\n",
    "        \n",
    "        return df, old_mean, new_mean\n",
    "\n",
    "preprocessor = DataPreprocessor()\n",
    "df, old_mean, new_mean = preprocessor.preprocess(df)\n"
   ]
  },
  {
   "cell_type": "markdown",
   "id": "6f172a82-8998-4dd3-8a66-272e8686df50",
   "metadata": {},
   "source": [
    "class DataPreprocessor:\n",
    "    def __init__(self):\n",
    "        self.encoder = None\n",
    "        self.feature_names = None\n",
    "    \n",
    "    @staticmethod\n",
    "    def training(self, df):\n",
    "        x = df.drop(columns=['total_price'])\n",
    "        y = df['total_price']\n",
    "        scale_x = StandardScaler()\n",
    "        scale_y = StandardScaler()\n",
    "        x_scaled = scale_x.fit_transform(x)\n",
    "        y_scaled = scale_y.fit_transform(y.values.reshape(-1,1))\n",
    "        x_train, x_test, y_train, y_test = train_test_split(x_scaled, y_scaled, test_size=0.25, random_state=42)\n",
    "        model = ElasticNet(\n",
    "            alpha=0.00001,\n",
    "            l1_ratio=0.75,\n",
    "            max_iter=200000,\n",
    "            tol=0.0001,\n",
    "            fit_intercept=True,\n",
    "            random_state=42\n",
    "        )\n",
    "        model.fit(x_train, y_train)\n"
   ]
  },
  {
   "cell_type": "code",
   "execution_count": 53,
   "id": "b18741a3-348c-419e-8f7a-d09ae4ac5770",
   "metadata": {},
   "outputs": [
    {
     "name": "stdout",
     "output_type": "stream",
     "text": [
      "Model training complete.\n"
     ]
    }
   ],
   "source": [
    "import pandas as pd\n",
    "from sklearn.preprocessing import StandardScaler\n",
    "from sklearn.linear_model import ElasticNet\n",
    "from sklearn.model_selection import train_test_split\n",
    "from calendar import monthrange\n",
    "from datetime import timedelta\n",
    "\n",
    "class Training_Prediction:\n",
    "    def __init__(self):\n",
    "        self.x_scaler = StandardScaler()\n",
    "        self.y_scaler = StandardScaler()\n",
    "        self.model = None\n",
    "        self.feature_names = None\n",
    "\n",
    "    def traintest(self, df):\n",
    "        x = df.drop(columns=['total_price'])\n",
    "        y = df['total_price']\n",
    "        self.feature_names = x.columns.tolist()\n",
    "        x_scaled = self.x_scaler.fit_transform(x)\n",
    "        y_scaled = self.y_scaler.fit_transform(y.values.reshape(-1, 1))\n",
    "        \n",
    "        self.model = ElasticNet(\n",
    "            alpha=0.00001,\n",
    "            l1_ratio=0.75,\n",
    "            max_iter=200000,\n",
    "            tol=0.0001,\n",
    "            fit_intercept=True,\n",
    "            random_state=42\n",
    "        )\n",
    "        self.model.fit(x_scaled, y_scaled)\n",
    "\n",
    "        print(\"Model training complete.\")\n",
    "        \n",
    "        if self.model is None:\n",
    "            raise ValueError(\"Model is not trained yet. Call traintest(df) first.\")\n",
    "        \n",
    "        l = []\n",
    "        last_date = df.index[-1]\n",
    "        next_day = last_date + timedelta(days=1)\n",
    "        year, month = next_day.year, next_day.month\n",
    "        days_in_month = monthrange(year, month)[1]\n",
    "\n",
    "        mean_change = df['total_price'].diff().mean()\n",
    "\n",
    "        for i in range(days_in_month):\n",
    "            next_day = df.index[-1] + timedelta(days=1)\n",
    "            next_data = {}\n",
    "            current_month = next_day.month\n",
    "            monthly_data = df[df.index.month == current_month]\n",
    "            next_data['monthly_avg'] = monthly_data['total_price'].mean()\n",
    "            \n",
    "            for d in range(7):\n",
    "                next_data[f'day_of_week_{d}'] = 1 if next_day.weekday() == d else 0\n",
    "            \n",
    "            lags = [1, 2, 3, 4, 5, 6, 7, 14, 21, 28]\n",
    "            for lag in lags:\n",
    "                lag_value = df['total_price'].shift(lag).iloc[-1]\n",
    "                next_data[f'lag_{lag}'] = lag_value\n",
    "            \n",
    "            next_data_df = pd.DataFrame([next_data], index=[next_day])\n",
    "            for col in self.feature_names:\n",
    "                if col not in next_data_df:\n",
    "                    next_data_df[col] = 0  # Fill missing features with 0\n",
    "            \n",
    "            next_data_df = next_data_df[self.feature_names]\n",
    "            next_data_scaled = self.x_scaler.transform(next_data_df)\n",
    "            predicted_value = self.model.predict(next_data_scaled)\n",
    "            predicted_value = self.y_scaler.inverse_transform(predicted_value.reshape(-1, 1))\n",
    "            \n",
    "            if predicted_value[0] < 10:\n",
    "                predicted_value[0] = 0 \n",
    "            \n",
    "            next_data_df['total_price'] = predicted_value[0]\n",
    "            df = pd.concat([df, next_data_df], axis=0)\n",
    "            l.append((predicted_value[0], next_day.weekday()))\n",
    "\n",
    "        sum_ = sum(item[0] for item in l) + days_in_month * mean_change\n",
    "        average = sum_ / len(l) if len(l) > 0 else 0        \n",
    "        return l, sum_, average\n",
    "\n",
    "trainpred = Training_Prediction()\n",
    "l, sum_, avg= trainpred.traintest(df)"
   ]
  },
  {
   "cell_type": "code",
   "execution_count": 54,
   "id": "878a81ee-d15f-4acf-a4ac-83d69edc6df6",
   "metadata": {},
   "outputs": [
    {
     "data": {
      "text/plain": [
       "710.5037347294939"
      ]
     },
     "execution_count": 54,
     "metadata": {},
     "output_type": "execute_result"
    }
   ],
   "source": [
    "old_mean"
   ]
  },
  {
   "cell_type": "code",
   "execution_count": 55,
   "id": "98656acf-76cf-4140-8c7c-347c4cbfc7f7",
   "metadata": {},
   "outputs": [
    {
     "data": {
      "text/plain": [
       "573.2367364746947"
      ]
     },
     "execution_count": 55,
     "metadata": {},
     "output_type": "execute_result"
    }
   ],
   "source": [
    "new_mean"
   ]
  },
  {
   "cell_type": "code",
   "execution_count": 56,
   "id": "8bec9b29-cbca-4473-a2a1-d75c9bbf895d",
   "metadata": {},
   "outputs": [
    {
     "data": {
      "text/plain": [
       "505.74682524656305"
      ]
     },
     "execution_count": 56,
     "metadata": {},
     "output_type": "execute_result"
    }
   ],
   "source": [
    "mae_score"
   ]
  },
  {
   "cell_type": "code",
   "execution_count": 57,
   "id": "452634e1-1948-47ae-843c-641159fa4ca1",
   "metadata": {},
   "outputs": [],
   "source": [
    "mean_change = old_mean - new_mean"
   ]
  },
  {
   "cell_type": "code",
   "execution_count": 58,
   "id": "fec2e6c7-001b-4941-9c30-d9b6539b90db",
   "metadata": {},
   "outputs": [
    {
     "data": {
      "text/plain": [
       "137.2669982547992"
      ]
     },
     "execution_count": 58,
     "metadata": {},
     "output_type": "execute_result"
    }
   ],
   "source": [
    "mean_change"
   ]
  },
  {
   "cell_type": "markdown",
   "id": "64aeac0c-51f9-4709-b28d-51707c249a9d",
   "metadata": {},
   "source": [
    "l = []\n",
    "from calendar import monthrange\n",
    "from datetime import timedelta\n",
    "\n",
    "last_date = df.index[-1]\n",
    "next_day = last_date + timedelta(days=1)\n",
    "year, month = next_day.year, next_day.month \n",
    "days_in_month = monthrange(year, month)[1]\n",
    "from datetime import timedelta\n",
    "for i in range(days_in_month):\n",
    "    last_date = df.index[-1]\n",
    "    next_day = last_date + timedelta(days=1)\n",
    "    next_data = {}\n",
    "    current_month = next_day.month\n",
    "    monthly_data = df[df.index.month == current_month]\n",
    "    next_data['monthly_avg'] = monthly_data['total_price'].mean()\n",
    "    next_data['day_of_week_1'] = 1 if next_day.weekday() == 0 else 0\n",
    "    next_data['day_of_week_2'] = 1 if next_day.weekday() == 1 else 0\n",
    "    next_data['day_of_week_3'] = 1 if next_day.weekday() == 2 else 0\n",
    "    next_data['day_of_week_4'] = 1 if next_day.weekday() == 3 else 0\n",
    "    next_data['day_of_week_5'] = 1 if next_day.weekday() == 4 else 0\n",
    "    next_data['day_of_week_6'] = 1 if next_day.weekday() == 5 else 0\n",
    "    next_data['day_of_week_7'] = 1 if next_day.weekday() == 6 else 0\n",
    "    lags = [1, 2, 3, 4, 5, 6, 7, 14, 21, 28]\n",
    "    for lag in lags:\n",
    "        lag_value = df['total_price'].shift(lag).iloc[-1]\n",
    "        next_data[f'lag_{lag}'] = lag_value\n",
    "    next_data_df = pd.DataFrame([next_data], index=[next_day])\n",
    "    next_data_scaled = scale_x.transform(next_data_df)\n",
    "    predicted_value = model.predict(next_data_scaled)\n",
    "    predicted_value = scale_y.inverse_transform(predicted_value.reshape(-1, 1))\n",
    "    if predicted_value[0] < 10:\n",
    "        predicted_value[0] = 0\n",
    "\n",
    "    next_data_df['total_price'] = predicted_value[0]\n",
    "    df = pd.concat([df, next_data_df], axis=0)\n",
    "    l.append((predicted_value[0], next_day.weekday()))\n",
    "sum_ = sum([item[0] for item in l]) + days_in_month * mean_change\n",
    "average = sum_ / len(l) if len(l) > 0 else 0"
   ]
  },
  {
   "cell_type": "code",
   "execution_count": 59,
   "id": "73c88243-b867-4e2d-8f9a-d924e441e229",
   "metadata": {},
   "outputs": [
    {
     "data": {
      "text/plain": [
       "[(array([1331.85006296]), 5),\n",
       " (array([0.]), 6),\n",
       " (array([1880.38382504]), 0),\n",
       " (array([0.]), 1),\n",
       " (array([1409.6175796]), 2),\n",
       " (array([474.86815696]), 3),\n",
       " (array([680.65743786]), 4),\n",
       " (array([846.88638086]), 5),\n",
       " (array([0.]), 6),\n",
       " (array([796.2489132]), 0),\n",
       " (array([0.]), 1),\n",
       " (array([841.74094121]), 2),\n",
       " (array([680.78003287]), 3),\n",
       " (array([323.89279763]), 4),\n",
       " (array([1248.53375571]), 5),\n",
       " (array([0.]), 6),\n",
       " (array([164.9322375]), 0),\n",
       " (array([0.]), 1),\n",
       " (array([557.28879238]), 2),\n",
       " (array([273.33322158]), 3),\n",
       " (array([0.]), 4),\n",
       " (array([290.17655641]), 5),\n",
       " (array([0.]), 6),\n",
       " (array([627.16697182]), 0),\n",
       " (array([0.]), 1),\n",
       " (array([571.70014143]), 2),\n",
       " (array([0.]), 3),\n",
       " (array([0.]), 4),\n",
       " (array([398.40159618]), 5),\n",
       " (array([0.]), 6),\n",
       " (array([889.63653105]), 0)]"
      ]
     },
     "execution_count": 59,
     "metadata": {},
     "output_type": "execute_result"
    }
   ],
   "source": [
    "l"
   ]
  },
  {
   "cell_type": "code",
   "execution_count": null,
   "id": "82e2a2b8-ed95-4943-86c5-4718c314015a",
   "metadata": {},
   "outputs": [],
   "source": [
    "sum_"
   ]
  },
  {
   "cell_type": "code",
   "execution_count": null,
   "id": "ee8b4f62-63b9-4f5f-99b6-67840b4b1df7",
   "metadata": {},
   "outputs": [],
   "source": [
    "average"
   ]
  },
  {
   "cell_type": "code",
   "execution_count": null,
   "id": "60540b12-1162-42f7-b226-2d9657f94ca3",
   "metadata": {},
   "outputs": [],
   "source": [
    "from sklean.metr"
   ]
  },
  {
   "cell_type": "code",
   "execution_count": 50,
   "id": "8556cb57-ae07-4786-9641-6d4585428a09",
   "metadata": {},
   "outputs": [],
   "source": [
    "import dill\n",
    "with open(\"preprocessing.pkl\", \"wb\") as f:\n",
    "    dill.dump(preprocessor, f)"
   ]
  },
  {
   "cell_type": "code",
   "execution_count": 51,
   "id": "6d1e2431-535c-4965-9af4-3e37196c8409",
   "metadata": {},
   "outputs": [],
   "source": [
    "with open(\"training_prediction.pkl\", \"wb\") as f:\n",
    "    dill.dump(trainpred, f)"
   ]
  },
  {
   "cell_type": "code",
   "execution_count": null,
   "id": "ca8a0a77-9bc2-46eb-b25e-09964f1f4c76",
   "metadata": {},
   "outputs": [],
   "source": []
  },
  {
   "cell_type": "code",
   "execution_count": null,
   "id": "dd6bbc65-f799-489c-a062-0e67a18a922b",
   "metadata": {},
   "outputs": [],
   "source": []
  },
  {
   "cell_type": "code",
   "execution_count": null,
   "id": "3d200815-6969-4aab-84e3-086756975d33",
   "metadata": {},
   "outputs": [],
   "source": []
  },
  {
   "cell_type": "code",
   "execution_count": null,
   "id": "0c71c50f-a6d5-4963-b537-fcb1a60221fc",
   "metadata": {},
   "outputs": [],
   "source": []
  },
  {
   "cell_type": "code",
   "execution_count": null,
   "id": "bf509eed-52dd-4082-a5ac-6748bb466f7a",
   "metadata": {},
   "outputs": [],
   "source": []
  }
 ],
 "metadata": {
  "kernelspec": {
   "display_name": "Python 3 (ipykernel)",
   "language": "python",
   "name": "python3"
  },
  "language_info": {
   "codemirror_mode": {
    "name": "ipython",
    "version": 3
   },
   "file_extension": ".py",
   "mimetype": "text/x-python",
   "name": "python",
   "nbconvert_exporter": "python",
   "pygments_lexer": "ipython3",
   "version": "3.10.13"
  }
 },
 "nbformat": 4,
 "nbformat_minor": 5
}
