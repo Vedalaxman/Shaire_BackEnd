{
 "cells": [
  {
   "cell_type": "code",
   "execution_count": 1,
   "id": "2e14b70c-8e0d-47f4-a2d8-c3d62473a93d",
   "metadata": {},
   "outputs": [],
   "source": [
    "import tensorflow as tf\n",
    "import pandas as pd\n",
    "import numpy as np\n",
    "from tensorflow import keras\n",
    "from keras.layers import Dense, Dropout, LSTM\n",
    "from keras.models import Sequential\n",
    "from keras.regularizers import l1_l2, l2\n",
    "from keras.optimizers import Adam\n",
    "from keras.initializers import HeNormal\n",
    "from keras.callbacks import EarlyStopping, ReduceLROnPlateau\n",
    "\n",
    "import sklearn\n",
    "from sklearn.model_selection import train_test_split, KFold\n",
    "from sklearn.preprocessing import MinMaxScaler, StandardScaler, OneHotEncoder, PolynomialFeatures\n",
    "from sklearn.metrics import mean_squared_error, mean_absolute_error\n",
    "from sklearn.linear_model import Ridge, Lasso, LinearRegression, ElasticNet\n",
    "from sklearn.tree import DecisionTreeRegressor\n",
    "from sklearn.ensemble import RandomForestRegressor\n",
    "from sklearn.svm import SVR\n",
    "\n",
    "import warnings\n",
    "warnings.filterwarnings('ignore')"
   ]
  },
  {
   "cell_type": "code",
   "execution_count": 518,
   "id": "f80de278-de9a-47c1-8f63-2de9fe1d0772",
   "metadata": {},
   "outputs": [
    {
     "data": {
      "text/html": [
       "<div>\n",
       "<style scoped>\n",
       "    .dataframe tbody tr th:only-of-type {\n",
       "        vertical-align: middle;\n",
       "    }\n",
       "\n",
       "    .dataframe tbody tr th {\n",
       "        vertical-align: top;\n",
       "    }\n",
       "\n",
       "    .dataframe thead th {\n",
       "        text-align: right;\n",
       "    }\n",
       "</style>\n",
       "<table border=\"1\" class=\"dataframe\">\n",
       "  <thead>\n",
       "    <tr style=\"text-align: right;\">\n",
       "      <th></th>\n",
       "      <th>Unnamed: 0</th>\n",
       "      <th>date</th>\n",
       "      <th>amount</th>\n",
       "    </tr>\n",
       "  </thead>\n",
       "  <tbody>\n",
       "    <tr>\n",
       "      <th>0</th>\n",
       "      <td>0</td>\n",
       "      <td>Jul 30, 2023</td>\n",
       "      <td>1.0</td>\n",
       "    </tr>\n",
       "    <tr>\n",
       "      <th>1</th>\n",
       "      <td>1</td>\n",
       "      <td>Aug 01, 2023</td>\n",
       "      <td>583.0</td>\n",
       "    </tr>\n",
       "    <tr>\n",
       "      <th>2</th>\n",
       "      <td>2</td>\n",
       "      <td>Aug 01, 2023</td>\n",
       "      <td>93.0</td>\n",
       "    </tr>\n",
       "    <tr>\n",
       "      <th>3</th>\n",
       "      <td>3</td>\n",
       "      <td>Aug 04, 2023</td>\n",
       "      <td>454.0</td>\n",
       "    </tr>\n",
       "    <tr>\n",
       "      <th>4</th>\n",
       "      <td>4</td>\n",
       "      <td>Aug 09, 2023</td>\n",
       "      <td>5500.0</td>\n",
       "    </tr>\n",
       "  </tbody>\n",
       "</table>\n",
       "</div>"
      ],
      "text/plain": [
       "   Unnamed: 0          date  amount\n",
       "0           0  Jul 30, 2023     1.0\n",
       "1           1  Aug 01, 2023   583.0\n",
       "2           2  Aug 01, 2023    93.0\n",
       "3           3  Aug 04, 2023   454.0\n",
       "4           4  Aug 09, 2023  5500.0"
      ]
     },
     "execution_count": 518,
     "metadata": {},
     "output_type": "execute_result"
    }
   ],
   "source": [
    "df = pd.read_csv('veda_mc.csv')\n",
    "df.head()"
   ]
  },
  {
   "cell_type": "code",
   "execution_count": 519,
   "id": "ae452c6b-fb64-4688-a3a6-52e6c866b851",
   "metadata": {},
   "outputs": [],
   "source": [
    "df = df.drop(columns=['Unnamed: 0'])"
   ]
  },
  {
   "cell_type": "code",
   "execution_count": 520,
   "id": "c5dc5d9f-3b97-4d97-b1ad-db6b719d3405",
   "metadata": {},
   "outputs": [],
   "source": [
    "df = df.rename(columns = {'date': 'date',\n",
    "          'amount': 'price'})"
   ]
  },
  {
   "cell_type": "code",
   "execution_count": 521,
   "id": "876a01df-b9b0-44e7-bd0a-0e05924fb3dc",
   "metadata": {},
   "outputs": [],
   "source": [
    "df['date'] = pd.to_datetime(df['date'])\n",
    "date_range = pd.date_range(start=df['date'].min(), end=df['date'].max(), freq='D')\n",
    "full_df = pd.DataFrame(date_range, columns=['date'])\n",
    "df = pd.merge(full_df, df, on='date', how='left')\n",
    "df['price'] = df['price'].fillna(0)"
   ]
  },
  {
   "cell_type": "code",
   "execution_count": 522,
   "id": "e198fd5d-b9ee-4339-b091-d7f8f252104e",
   "metadata": {},
   "outputs": [],
   "source": [
    "df = df.groupby('date').agg({\n",
    "    'price': 'sum'\n",
    "}).rename(columns={'price': 'total_price'})\n",
    "df.reset_index(inplace=True)"
   ]
  },
  {
   "cell_type": "code",
   "execution_count": 523,
   "id": "1807aac2-7689-4fe9-ab43-11ae8f82d7e1",
   "metadata": {},
   "outputs": [],
   "source": [
    "import pandas as pd\n",
    "\n",
    "def calculate_monthly_avg(df):\n",
    "    df['date'] = pd.to_datetime(df['date'])\n",
    "    df['monthly_avg'] = None\n",
    "    monthly_spending = {}\n",
    "\n",
    "    for idx, row in df.iterrows():\n",
    "        current_month = row['date'].month\n",
    "        current_year = row['date'].year\n",
    "        month_key = (current_year, current_month)\n",
    "\n",
    "        if month_key not in monthly_spending:\n",
    "            monthly_spending[month_key] = []\n",
    "\n",
    "        monthly_spending[month_key].append(row['total_price'])\n",
    "        monthly_avg = sum(monthly_spending[month_key]) / len(monthly_spending[month_key])\n",
    "        \n",
    "        df.at[idx, 'monthly_avg'] = monthly_avg\n",
    "\n",
    "calculate_monthly_avg(df)\n"
   ]
  },
  {
   "cell_type": "code",
   "execution_count": 524,
   "id": "7cfda97c-1ccd-4702-9321-018c14e300af",
   "metadata": {},
   "outputs": [],
   "source": [
    "def extract_date_features(df, date_col):\n",
    "    df[date_col] = pd.to_datetime(df[date_col])\n",
    "    df['day_of_week'] = df[date_col].dt.dayofweek    \n",
    "    return df\n",
    "df = extract_date_features(df, 'date')\n",
    "encoder = OneHotEncoder(sparse_output=False)\n",
    "encoded_days = encoder.fit_transform(df[['day_of_week']])\n",
    "encoded_df = pd.DataFrame(encoded_days, columns=[f'day_of_week_{i}' for i in range(1, 8)])\n",
    "df = pd.concat([df, encoded_df], axis=1)\n",
    "df = df.drop(columns=['day_of_week'])\n"
   ]
  },
  {
   "cell_type": "code",
   "execution_count": 525,
   "id": "2777ba95-6a14-4172-ad50-aa995f62c416",
   "metadata": {},
   "outputs": [],
   "source": [
    "lag_values = [1, 2, 3, 4, 5, 6, 7, 14, 21, 28]\n",
    "for lag in lag_values:\n",
    "    df[f'lag_{lag}'] = sum([df['total_price'].shift(i) for i in range(1, lag+1)]) / lag"
   ]
  },
  {
   "cell_type": "code",
   "execution_count": 526,
   "id": "b5a49f04-fe8e-4889-b338-4491dc4a8ca3",
   "metadata": {},
   "outputs": [],
   "source": [
    "df.dropna(inplace=True)"
   ]
  },
  {
   "cell_type": "code",
   "execution_count": 527,
   "id": "a3e2af31-591a-4188-ba6b-35b8ee0fc281",
   "metadata": {},
   "outputs": [],
   "source": [
    "df.sort_values('date', inplace=True)\n",
    "df.set_index('date', inplace=True)"
   ]
  },
  {
   "cell_type": "code",
   "execution_count": 528,
   "id": "e36ca49d-c702-4f4e-afb6-bc98675f7fa7",
   "metadata": {},
   "outputs": [
    {
     "data": {
      "text/plain": [
       "count     573.000000\n",
       "mean      710.503735\n",
       "std      1277.167773\n",
       "min         0.000000\n",
       "25%        20.000000\n",
       "50%       255.000000\n",
       "75%       870.000000\n",
       "max      9615.000000\n",
       "Name: total_price, dtype: float64"
      ]
     },
     "execution_count": 528,
     "metadata": {},
     "output_type": "execute_result"
    }
   ],
   "source": [
    "df['total_price'].describe()"
   ]
  },
  {
   "cell_type": "code",
   "execution_count": 529,
   "id": "33368640-719b-4a1c-9c43-131b29a89f02",
   "metadata": {},
   "outputs": [
    {
     "data": {
      "text/plain": [
       "710.5037347294939"
      ]
     },
     "execution_count": 529,
     "metadata": {},
     "output_type": "execute_result"
    }
   ],
   "source": [
    "old_mean = df['total_price'].mean()\n",
    "old_mean"
   ]
  },
  {
   "cell_type": "code",
   "execution_count": 530,
   "id": "4b3dbc8b-f2dd-4bc8-b5f6-020a44fa210b",
   "metadata": {},
   "outputs": [],
   "source": [
    "filtered_df = df[df['total_price'] > 0]\n",
    "Q1 = filtered_df['total_price'].quantile(0.25)\n",
    "Q3 = filtered_df['total_price'].quantile(0.75)\n",
    "IQR = Q3-Q1\n",
    "original_values = df['total_price'].copy()\n",
    "df.loc[df['total_price'] > Q3 + IQR, 'total_price'] = Q3 + IQR"
   ]
  },
  {
   "cell_type": "code",
   "execution_count": 531,
   "id": "d97e8ff5-f893-4586-859b-97799bb8ee1c",
   "metadata": {},
   "outputs": [],
   "source": [
    "filtered_df = df[df['total_price'] > 0]"
   ]
  },
  {
   "cell_type": "code",
   "execution_count": 532,
   "id": "e0f9cd04-257c-4f8a-864e-e7769e0dcb29",
   "metadata": {},
   "outputs": [
    {
     "data": {
      "text/plain": [
       "537.1546945898779"
      ]
     },
     "execution_count": 532,
     "metadata": {},
     "output_type": "execute_result"
    }
   ],
   "source": [
    "new_mean = df['total_price'].mean()\n",
    "new_mean"
   ]
  },
  {
   "cell_type": "code",
   "execution_count": 533,
   "id": "a05361d1-9354-4edf-b87a-9e8459242a1b",
   "metadata": {},
   "outputs": [
    {
     "data": {
      "text/plain": [
       "180.0"
      ]
     },
     "execution_count": 533,
     "metadata": {},
     "output_type": "execute_result"
    }
   ],
   "source": [
    "Q1"
   ]
  },
  {
   "cell_type": "code",
   "execution_count": 534,
   "id": "a9ef54bc-bc44-4afb-971c-79e3d456f896",
   "metadata": {},
   "outputs": [
    {
     "data": {
      "text/plain": [
       "1101.5"
      ]
     },
     "execution_count": 534,
     "metadata": {},
     "output_type": "execute_result"
    }
   ],
   "source": [
    "Q3"
   ]
  },
  {
   "cell_type": "code",
   "execution_count": 535,
   "id": "19b23bd5-5b81-48fb-8ed7-f3a25aa70f1f",
   "metadata": {},
   "outputs": [
    {
     "data": {
      "text/plain": [
       "count     573.000000\n",
       "mean      537.154695\n",
       "std       640.863782\n",
       "min         0.000000\n",
       "25%        20.000000\n",
       "50%       255.000000\n",
       "75%       870.000000\n",
       "max      2023.000000\n",
       "Name: total_price, dtype: float64"
      ]
     },
     "execution_count": 535,
     "metadata": {},
     "output_type": "execute_result"
    }
   ],
   "source": [
    "df['total_price'].describe()"
   ]
  },
  {
   "cell_type": "code",
   "execution_count": 536,
   "id": "42980a9a-5507-4059-bac1-f15fd3604387",
   "metadata": {},
   "outputs": [],
   "source": [
    "x = df.drop(columns=['total_price'])\n",
    "y = df['total_price']\n",
    "scale_x = StandardScaler()\n",
    "scale_y = StandardScaler()\n",
    "x_scaled = scale_x.fit_transform(x)\n",
    "y_scaled = scale_y.fit_transform(y.values.reshape(-1,1))\n",
    "x_train, x_test, y_train, y_test = train_test_split(x_scaled, y_scaled, test_size=0.25, random_state=42)\n",
    "model = ElasticNet(\n",
    "    alpha=0.00001,\n",
    "    l1_ratio=0.75,\n",
    "    max_iter=200000,\n",
    "    tol=0.0001,\n",
    "    fit_intercept=True,\n",
    "    random_state=42\n",
    ")\n",
    "model.fit(x_train, y_train)\n",
    "y_pred = model.predict(x_test)\n",
    "y_pred_original = scale_y.inverse_transform(y_pred.reshape(-1,1))\n",
    "y_test_original = scale_y.inverse_transform(y_test.reshape(-1,1))"
   ]
  },
  {
   "cell_type": "code",
   "execution_count": 537,
   "id": "452634e1-1948-47ae-843c-641159fa4ca1",
   "metadata": {},
   "outputs": [],
   "source": [
    "mean_change = old_mean - new_mean"
   ]
  },
  {
   "cell_type": "code",
   "execution_count": 538,
   "id": "fec2e6c7-001b-4941-9c30-d9b6539b90db",
   "metadata": {},
   "outputs": [
    {
     "data": {
      "text/plain": [
       "173.34904013961602"
      ]
     },
     "execution_count": 538,
     "metadata": {},
     "output_type": "execute_result"
    }
   ],
   "source": [
    "mean_change"
   ]
  },
  {
   "cell_type": "code",
   "execution_count": 539,
   "id": "8726e1ce-15ae-4707-ae6e-8124cdb60b71",
   "metadata": {},
   "outputs": [],
   "source": [
    "l = []\n",
    "from calendar import monthrange\n",
    "\n",
    "last_date = df.index[-1]\n",
    "year, month = last_date.year, last_date.month \n",
    "days_in_month = monthrange(year, month)[1]\n",
    "from datetime import timedelta\n",
    "for i in range(days_in_month):\n",
    "    last_date = df.index[-1]\n",
    "    next_day = last_date + timedelta(days=1)\n",
    "    next_data = {}\n",
    "    current_month = next_day.month\n",
    "    monthly_data = df[df.index.month == current_month]\n",
    "    next_data['monthly_avg'] = monthly_data['total_price'].mean()\n",
    "    next_data['day_of_week_1'] = 1 if next_day.weekday() == 0 else 0\n",
    "    next_data['day_of_week_2'] = 1 if next_day.weekday() == 1 else 0\n",
    "    next_data['day_of_week_3'] = 1 if next_day.weekday() == 2 else 0\n",
    "    next_data['day_of_week_4'] = 1 if next_day.weekday() == 3 else 0\n",
    "    next_data['day_of_week_5'] = 1 if next_day.weekday() == 4 else 0\n",
    "    next_data['day_of_week_6'] = 1 if next_day.weekday() == 5 else 0\n",
    "    next_data['day_of_week_7'] = 1 if next_day.weekday() == 6 else 0\n",
    "    lags = [1, 2, 3, 4, 5, 6, 7, 14, 21, 28]\n",
    "    for lag in lags:\n",
    "        lag_value = df['total_price'].shift(lag).iloc[-1]\n",
    "        next_data[f'lag_{lag}'] = lag_value\n",
    "    next_data_df = pd.DataFrame([next_data], index=[next_day])\n",
    "    next_data_scaled = scale_x.transform(next_data_df)\n",
    "    predicted_value = model.predict(next_data_scaled)\n",
    "    predicted_value = scale_y.inverse_transform(predicted_value.reshape(-1, 1))\n",
    "    if predicted_value[0] < 10:\n",
    "        predicted_value[0] = 0\n",
    "\n",
    "    next_data_df['total_price'] = predicted_value[0]\n",
    "    df = pd.concat([df, next_data_df], axis=0)\n",
    "    l.append((predicted_value[0], next_day.weekday()))\n"
   ]
  },
  {
   "cell_type": "code",
   "execution_count": 540,
   "id": "73c88243-b867-4e2d-8f9a-d924e441e229",
   "metadata": {},
   "outputs": [
    {
     "data": {
      "text/plain": [
       "[(array([975.80999392]), 5),\n",
       " (array([0.]), 6),\n",
       " (array([1524.98087422]), 0),\n",
       " (array([0.]), 1),\n",
       " (array([1259.53269703]), 2),\n",
       " (array([89.05950603]), 3),\n",
       " (array([748.29541587]), 4),\n",
       " (array([838.98620696]), 5),\n",
       " (array([0.]), 6),\n",
       " (array([650.42383226]), 0),\n",
       " (array([0.]), 1),\n",
       " (array([887.69493766]), 2),\n",
       " (array([582.60631021]), 3),\n",
       " (array([518.66803068]), 4),\n",
       " (array([1072.89634441]), 5),\n",
       " (array([0.]), 6),\n",
       " (array([348.88368212]), 0),\n",
       " (array([0.]), 1),\n",
       " (array([643.82175869]), 2),\n",
       " (array([128.75012676]), 3),\n",
       " (array([0.]), 4),\n",
       " (array([225.63411212]), 5),\n",
       " (array([0.]), 6),\n",
       " (array([696.87724164]), 0),\n",
       " (array([0.]), 1),\n",
       " (array([614.01717044]), 2),\n",
       " (array([0.]), 3),\n",
       " (array([268.37166838]), 4),\n",
       " (array([610.34582234]), 5),\n",
       " (array([79.35895131]), 6),\n",
       " (array([842.46995947]), 0)]"
      ]
     },
     "execution_count": 540,
     "metadata": {},
     "output_type": "execute_result"
    }
   ],
   "source": [
    "l"
   ]
  },
  {
   "cell_type": "code",
   "execution_count": 541,
   "id": "04cd495b-9b31-4c44-90c2-9c6f5a1735e1",
   "metadata": {},
   "outputs": [],
   "source": [
    "sum_ = sum([item[0] for item in l])+days_in_month*mean_change\n",
    "average = sum_ / len(l) if len(l) > 0 else 0"
   ]
  },
  {
   "cell_type": "code",
   "execution_count": 542,
   "id": "82e2a2b8-ed95-4943-86c5-4718c314015a",
   "metadata": {},
   "outputs": [
    {
     "data": {
      "text/plain": [
       "array([18981.30488684])"
      ]
     },
     "execution_count": 542,
     "metadata": {},
     "output_type": "execute_result"
    }
   ],
   "source": [
    "sum_"
   ]
  },
  {
   "cell_type": "code",
   "execution_count": 543,
   "id": "ee8b4f62-63b9-4f5f-99b6-67840b4b1df7",
   "metadata": {},
   "outputs": [
    {
     "data": {
      "text/plain": [
       "array([612.30015764])"
      ]
     },
     "execution_count": 543,
     "metadata": {},
     "output_type": "execute_result"
    }
   ],
   "source": [
    "average"
   ]
  }
 ],
 "metadata": {
  "kernelspec": {
   "display_name": "Python 3 (ipykernel)",
   "language": "python",
   "name": "python3"
  },
  "language_info": {
   "codemirror_mode": {
    "name": "ipython",
    "version": 3
   },
   "file_extension": ".py",
   "mimetype": "text/x-python",
   "name": "python",
   "nbconvert_exporter": "python",
   "pygments_lexer": "ipython3",
   "version": "3.10.13"
  }
 },
 "nbformat": 4,
 "nbformat_minor": 5
}
