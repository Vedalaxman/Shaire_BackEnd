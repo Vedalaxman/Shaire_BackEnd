{
 "cells": [
  {
   "cell_type": "code",
   "execution_count": 1,
   "id": "2e14b70c-8e0d-47f4-a2d8-c3d62473a93d",
   "metadata": {},
   "outputs": [],
   "source": [
    "import tensorflow as tf\n",
    "import pandas as pd\n",
    "import numpy as np\n",
    "from tensorflow import keras\n",
    "from keras.layers import Dense, Dropout, LSTM\n",
    "from keras.models import Sequential\n",
    "from keras.regularizers import l1_l2, l2\n",
    "from keras.optimizers import Adam\n",
    "from keras.initializers import HeNormal\n",
    "from keras.callbacks import EarlyStopping, ReduceLROnPlateau\n",
    "\n",
    "import sklearn\n",
    "from sklearn.model_selection import train_test_split, KFold\n",
    "from sklearn.preprocessing import MinMaxScaler, StandardScaler, OneHotEncoder, PolynomialFeatures\n",
    "from sklearn.metrics import mean_squared_error, mean_absolute_error\n",
    "from sklearn.linear_model import Ridge, Lasso, LinearRegression, ElasticNet\n",
    "from sklearn.tree import DecisionTreeRegressor\n",
    "from sklearn.ensemble import RandomForestRegressor\n",
    "from sklearn.svm import SVR\n",
    "\n",
    "import warnings\n",
    "warnings.filterwarnings('ignore')"
   ]
  },
  {
   "cell_type": "code",
   "execution_count": 17,
   "id": "f80de278-de9a-47c1-8f63-2de9fe1d0772",
   "metadata": {},
   "outputs": [
    {
     "data": {
      "text/html": [
       "<div>\n",
       "<style scoped>\n",
       "    .dataframe tbody tr th:only-of-type {\n",
       "        vertical-align: middle;\n",
       "    }\n",
       "\n",
       "    .dataframe tbody tr th {\n",
       "        vertical-align: top;\n",
       "    }\n",
       "\n",
       "    .dataframe thead th {\n",
       "        text-align: right;\n",
       "    }\n",
       "</style>\n",
       "<table border=\"1\" class=\"dataframe\">\n",
       "  <thead>\n",
       "    <tr style=\"text-align: right;\">\n",
       "      <th></th>\n",
       "      <th>Unnamed: 0</th>\n",
       "      <th>date</th>\n",
       "      <th>amount</th>\n",
       "    </tr>\n",
       "  </thead>\n",
       "  <tbody>\n",
       "    <tr>\n",
       "      <th>0</th>\n",
       "      <td>0</td>\n",
       "      <td>Jul 30, 2023</td>\n",
       "      <td>1.0</td>\n",
       "    </tr>\n",
       "    <tr>\n",
       "      <th>1</th>\n",
       "      <td>1</td>\n",
       "      <td>Aug 01, 2023</td>\n",
       "      <td>583.0</td>\n",
       "    </tr>\n",
       "    <tr>\n",
       "      <th>2</th>\n",
       "      <td>2</td>\n",
       "      <td>Aug 01, 2023</td>\n",
       "      <td>93.0</td>\n",
       "    </tr>\n",
       "    <tr>\n",
       "      <th>3</th>\n",
       "      <td>3</td>\n",
       "      <td>Aug 04, 2023</td>\n",
       "      <td>454.0</td>\n",
       "    </tr>\n",
       "    <tr>\n",
       "      <th>4</th>\n",
       "      <td>4</td>\n",
       "      <td>Aug 09, 2023</td>\n",
       "      <td>5500.0</td>\n",
       "    </tr>\n",
       "  </tbody>\n",
       "</table>\n",
       "</div>"
      ],
      "text/plain": [
       "   Unnamed: 0          date  amount\n",
       "0           0  Jul 30, 2023     1.0\n",
       "1           1  Aug 01, 2023   583.0\n",
       "2           2  Aug 01, 2023    93.0\n",
       "3           3  Aug 04, 2023   454.0\n",
       "4           4  Aug 09, 2023  5500.0"
      ]
     },
     "execution_count": 17,
     "metadata": {},
     "output_type": "execute_result"
    }
   ],
   "source": [
    "df = pd.read_csv('veda_mc.csv')\n",
    "df.head()"
   ]
  },
  {
   "cell_type": "code",
   "execution_count": 18,
   "id": "ae452c6b-fb64-4688-a3a6-52e6c866b851",
   "metadata": {},
   "outputs": [],
   "source": [
    "df = df.drop(columns=['Unnamed: 0'])"
   ]
  },
  {
   "cell_type": "code",
   "execution_count": 19,
   "id": "c5dc5d9f-3b97-4d97-b1ad-db6b719d3405",
   "metadata": {},
   "outputs": [],
   "source": [
    "df = df.rename(columns = {'date': 'date',\n",
    "          'amount': 'price'})"
   ]
  },
  {
   "cell_type": "code",
   "execution_count": 20,
   "id": "f6b66429-795c-4f93-abf1-1f41a42f010d",
   "metadata": {},
   "outputs": [
    {
     "data": {
      "text/plain": [
       "(1198, 2)"
      ]
     },
     "execution_count": 20,
     "metadata": {},
     "output_type": "execute_result"
    }
   ],
   "source": [
    "df.shape"
   ]
  },
  {
   "cell_type": "code",
   "execution_count": 106,
   "id": "dc661467-d9d3-4e91-bf67-b56433a42c55",
   "metadata": {},
   "outputs": [],
   "source": [
    "import pandas as pd\n",
    "from sklearn.preprocessing import OneHotEncoder\n",
    "from sklearn.preprocessing import StandardScaler\n",
    "from sklearn.linear_model import ElasticNet\n",
    "from datetime import timedelta\n",
    "from calendar import monthrange\n",
    "\n",
    "\n",
    "class DataPreprocessor:\n",
    "    def __init__(self):\n",
    "        self.encoder = None\n",
    "        self.feature_names = None\n",
    "    \n",
    "    @staticmethod\n",
    "    def preprocess(df):\n",
    "        print(\"Step 1: Converting to datetime\")\n",
    "        df['date'] = pd.to_datetime(df['date'])\n",
    "    \n",
    "        print(\"Step 2: Creating date range and merging\")\n",
    "        date_range = pd.date_range(start=df['date'].min(), end=df['date'].max(), freq='D')\n",
    "        df = (pd.DataFrame(date_range, columns=['date'])\n",
    "              .merge(df, on='date', how='left')\n",
    "              .fillna({'price': 0}))\n",
    "        \n",
    "        print(\"Step 3: Grouping by date\")\n",
    "        df = df.groupby('date')['price'].sum().rename('total_price').reset_index()\n",
    "        \n",
    "        print(\"Step 4: Monthly cumulative average\")\n",
    "        df['year_month'] = df['date'].dt.to_period('M')\n",
    "        df['day'] = df['date'].dt.day\n",
    "        df['monthly_avg'] = df.groupby('year_month')['total_price'].expanding().mean().reset_index(level=0, drop=True)\n",
    "        df.drop(columns=['year_month', 'day'], inplace=True)\n",
    "        \n",
    "        print(\"Step 5: One-hot encoding day of week\")\n",
    "        df['day_of_week'] = df['date'].dt.dayofweek\n",
    "        encoder = OneHotEncoder(sparse_output=False)\n",
    "        encoded_days = encoder.fit_transform(df[['day_of_week']])\n",
    "        encoded_df = pd.DataFrame(encoded_days, \n",
    "                                  columns=[f'day_of_week_{i}' for i in range(encoded_days.shape[1])])\n",
    "        df = pd.concat([df, encoded_df], axis=1).drop(columns=['day_of_week'])\n",
    "        \n",
    "        print(\"Step 6: Lag features\")\n",
    "        lag_values = [1, 2, 3, 4, 5, 6, 7, 14, 21, 28]\n",
    "        for lag in lag_values:\n",
    "            df[f'lag_{lag}'] = df['total_price'].rolling(lag).mean().shift(1)\n",
    "    \n",
    "        print(\"Step 7: Filling NaNs\")\n",
    "        df = df.fillna(0)\n",
    "    \n",
    "        print(\"Step 8: Sorting by date\")\n",
    "        df = df.sort_values('date').set_index('date')\n",
    "    \n",
    "        print(\"Step 9: Outlier handling\")\n",
    "        old_mean = df['total_price'].mean()\n",
    "        filtered_df = df[df['total_price'] > 0]\n",
    "        Q1 = filtered_df['total_price'].quantile(0.25)\n",
    "        Q3 = filtered_df['total_price'].quantile(0.75)\n",
    "        IQR = Q3 - Q1\n",
    "        df['total_price'] = df['total_price'].clip(upper=Q3 + 1.5 * IQR)\n",
    "        new_mean = df['total_price'].mean()\n",
    "        \n",
    "        print(\"Step 10: Done\")\n",
    "        return df, old_mean, new_mean\n"
   ]
  },
  {
   "cell_type": "markdown",
   "id": "6f172a82-8998-4dd3-8a66-272e8686df50",
   "metadata": {},
   "source": [
    "class DataPreprocessor:\n",
    "    def __init__(self):\n",
    "        self.encoder = None\n",
    "        self.feature_names = None\n",
    "    \n",
    "    @staticmethod\n",
    "    def training(self, df):\n",
    "        x = df.drop(columns=['total_price'])\n",
    "        y = df['total_price']\n",
    "        scale_x = StandardScaler()\n",
    "        scale_y = StandardScaler()\n",
    "        x_scaled = scale_x.fit_transform(x)\n",
    "        y_scaled = scale_y.fit_transform(y.values.reshape(-1,1))\n",
    "        x_train, x_test, y_train, y_test = train_test_split(x_scaled, y_scaled, test_size=0.25, random_state=42)\n",
    "        model = ElasticNet(\n",
    "            alpha=0.00001,\n",
    "            l1_ratio=0.75,\n",
    "            max_iter=200000,\n",
    "            tol=0.0001,\n",
    "            fit_intercept=True,\n",
    "            random_state=42\n",
    "        )\n",
    "        model.fit(x_train, y_train)\n"
   ]
  },
  {
   "cell_type": "code",
   "execution_count": 107,
   "id": "b18741a3-348c-419e-8f7a-d09ae4ac5770",
   "metadata": {},
   "outputs": [],
   "source": [
    "import pandas as pd\n",
    "import numpy as np\n",
    "from sklearn.preprocessing import StandardScaler\n",
    "from sklearn.linear_model import ElasticNet\n",
    "from datetime import timedelta\n",
    "from calendar import monthrange\n",
    "\n",
    "class Training_Prediction:\n",
    "    def __init__(self):\n",
    "        self.x_scaler = StandardScaler()\n",
    "        self.y_scaler = StandardScaler()\n",
    "        self.model = None\n",
    "        self.feature_names = None\n",
    "    @staticmethod\n",
    "    def traintest(self, df):\n",
    "        if 'total_price' not in df.columns:\n",
    "            raise ValueError(\"Input DataFrame must contain 'total_price' column.\")\n",
    "        if not isinstance(df.index, pd.DatetimeIndex):\n",
    "            raise ValueError(\"DataFrame index must be a DatetimeIndex.\")\n",
    "        if df.empty:\n",
    "            raise ValueError(\"Input DataFrame cannot be empty.\")\n",
    "        if len(df) < 28:\n",
    "            print(\"Warning: DataFrame length is less than the longest lag (28 days). Lag features might be zero-filled.\")\n",
    "\n",
    "        x = df.drop(columns=['total_price'])\n",
    "        y = df['total_price']\n",
    "        self.feature_names = x.columns.tolist()\n",
    "\n",
    "        x_scaled = self.x_scaler.fit_transform(x)\n",
    "        y_scaled = self.y_scaler.fit_transform(y.values.reshape(-1, 1))\n",
    "\n",
    "        self.model = ElasticNet(\n",
    "            alpha=0.1,              \n",
    "            l1_ratio=0.5,         \n",
    "            max_iter=10000,        \n",
    "            tol=1e-4,              \n",
    "            fit_intercept=True,\n",
    "            random_state=42)\n",
    "\n",
    "\n",
    "        self.model.fit(x_scaled, y_scaled.ravel())\n",
    "\n",
    "        if self.model is None:\n",
    "            raise ValueError(\"Model training failed.\")\n",
    "\n",
    "        predictions_next_month = []\n",
    "        temp_df = df.copy()\n",
    "        last_date = temp_df.index[-1]\n",
    "        start_prediction_date = last_date + timedelta(days=1)\n",
    "        pred_year, pred_month = start_prediction_date.year, start_prediction_date.month\n",
    "        days_in_pred_month = monthrange(pred_year, pred_month)[1]\n",
    "\n",
    "        historical_monthly_avgs = df.groupby(df.index.month)['total_price'].mean().to_dict()\n",
    "        overall_mean_fallback = df['total_price'].mean()\n",
    "\n",
    "        for i in range(days_in_pred_month):\n",
    "            current_pred_date = last_date + timedelta(days=i + 1)\n",
    "            next_data_features = {}\n",
    "\n",
    "            # Monthly average feature\n",
    "            month_being_predicted = current_pred_date.month\n",
    "            next_data_features['monthly_avg'] = historical_monthly_avgs.get(month_being_predicted, overall_mean_fallback)\n",
    "\n",
    "            # Day-of-week one-hot encoding\n",
    "            for d in range(7):\n",
    "                next_data_features[f'day_of_week_{d}'] = 1 if current_pred_date.weekday() == d else 0\n",
    "\n",
    "            # Lag features\n",
    "            lags = [1, 2, 3, 4, 5, 6, 7, 14, 21, 28]\n",
    "            for lag in lags:\n",
    "                try:\n",
    "                    lag_value = temp_df['total_price'].iloc[-lag]\n",
    "                except IndexError:\n",
    "                    lag_value = 0\n",
    "                next_data_features[f'lag_{lag}'] = lag_value\n",
    "\n",
    "            next_data_row_df = pd.DataFrame([next_data_features], index=[current_pred_date])\n",
    "\n",
    "            # Ensure all feature columns are present and aligned\n",
    "            for col in self.feature_names:\n",
    "                if col not in next_data_row_df:\n",
    "                    next_data_row_df[col] = 0\n",
    "            next_data_row_df = next_data_row_df[self.feature_names]\n",
    "\n",
    "            # Scale, predict, and inverse transform\n",
    "            next_data_scaled = self.x_scaler.transform(next_data_row_df)\n",
    "            predicted_scaled = self.model.predict(next_data_scaled)\n",
    "            predicted_value = self.y_scaler.inverse_transform(predicted_scaled.reshape(-1, 1))[0, 0]\n",
    "\n",
    "            if predicted_value < 10:\n",
    "                predicted_value = 0\n",
    "\n",
    "            predictions_next_month.append(predicted_value)\n",
    "\n",
    "            # Append prediction to temp_df for future lag use\n",
    "            row_to_append = next_data_row_df.copy()\n",
    "            row_to_append['total_price'] = predicted_value\n",
    "            temp_df = pd.concat([temp_df, row_to_append], axis=0)\n",
    "\n",
    "        predicted_sum = sum(predictions_next_month)\n",
    "        predicted_average = predicted_sum / len(predictions_next_month) if predictions_next_month else 0\n",
    "\n",
    "        return predictions_next_month, predicted_sum, predicted_average\n"
   ]
  },
  {
   "cell_type": "code",
   "execution_count": 91,
   "id": "8eb5c97b-b057-4755-a37d-8320916acebb",
   "metadata": {},
   "outputs": [],
   "source": [
    "# Ensure df has a DatetimeIndex\n",
    "df.index = pd.to_datetime(df.index)\n",
    "trainpred = Training_Prediction()\n",
    "l, sum_, avg = trainpred.traintest(df)\n"
   ]
  },
  {
   "cell_type": "code",
   "execution_count": 92,
   "id": "878a81ee-d15f-4acf-a4ac-83d69edc6df6",
   "metadata": {},
   "outputs": [
    {
     "data": {
      "text/plain": [
       "710.5037347294939"
      ]
     },
     "execution_count": 92,
     "metadata": {},
     "output_type": "execute_result"
    }
   ],
   "source": [
    "old_mean"
   ]
  },
  {
   "cell_type": "code",
   "execution_count": 93,
   "id": "98656acf-76cf-4140-8c7c-347c4cbfc7f7",
   "metadata": {},
   "outputs": [
    {
     "data": {
      "text/plain": [
       "573.2367364746947"
      ]
     },
     "execution_count": 93,
     "metadata": {},
     "output_type": "execute_result"
    }
   ],
   "source": [
    "new_mean"
   ]
  },
  {
   "cell_type": "code",
   "execution_count": 82,
   "id": "8bec9b29-cbca-4473-a2a1-d75c9bbf895d",
   "metadata": {},
   "outputs": [
    {
     "ename": "NameError",
     "evalue": "name 'mae_score' is not defined",
     "output_type": "error",
     "traceback": [
      "\u001b[1;31m---------------------------------------------------------------------------\u001b[0m",
      "\u001b[1;31mNameError\u001b[0m                                 Traceback (most recent call last)",
      "Cell \u001b[1;32mIn[82], line 1\u001b[0m\n\u001b[1;32m----> 1\u001b[0m \u001b[43mmae_score\u001b[49m\n",
      "\u001b[1;31mNameError\u001b[0m: name 'mae_score' is not defined"
     ]
    }
   ],
   "source": [
    "mae_score"
   ]
  },
  {
   "cell_type": "code",
   "execution_count": 83,
   "id": "452634e1-1948-47ae-843c-641159fa4ca1",
   "metadata": {},
   "outputs": [],
   "source": [
    "mean_change = old_mean - new_mean"
   ]
  },
  {
   "cell_type": "code",
   "execution_count": 94,
   "id": "fec2e6c7-001b-4941-9c30-d9b6539b90db",
   "metadata": {},
   "outputs": [
    {
     "data": {
      "text/plain": [
       "137.2669982547992"
      ]
     },
     "execution_count": 94,
     "metadata": {},
     "output_type": "execute_result"
    }
   ],
   "source": [
    "mean_change"
   ]
  },
  {
   "cell_type": "code",
   "execution_count": 95,
   "id": "73c88243-b867-4e2d-8f9a-d924e441e229",
   "metadata": {},
   "outputs": [
    {
     "data": {
      "text/plain": [
       "[627.1586716055131,\n",
       " 575.6193024952318,\n",
       " 586.3408115182967,\n",
       " 567.6423709957098,\n",
       " 586.4822352116042,\n",
       " 581.4565822570638,\n",
       " 549.7948613177845,\n",
       " 689.0752236132383,\n",
       " 538.0444394822646,\n",
       " 577.7632756346278,\n",
       " 420.6695457921283,\n",
       " 394.06911654586474,\n",
       " 427.2215712405382,\n",
       " 437.91367313166256,\n",
       " 538.5459469329132,\n",
       " 316.0318593388928,\n",
       " 405.8963225664837,\n",
       " 427.58968614318655,\n",
       " 414.96928308924316,\n",
       " 316.84198155469284,\n",
       " 402.9853102655935,\n",
       " 501.02840091066906,\n",
       " 409.6748304926822,\n",
       " 316.87668999830646,\n",
       " 428.1732654351237,\n",
       " 316.7554212033877,\n",
       " 317.485834762398,\n",
       " 346.0564801771027,\n",
       " 559.774634659279,\n",
       " 400.92846505415116,\n",
       " 401.49199726127335]"
      ]
     },
     "execution_count": 95,
     "metadata": {},
     "output_type": "execute_result"
    }
   ],
   "source": [
    "l"
   ]
  },
  {
   "cell_type": "code",
   "execution_count": 96,
   "id": "82e2a2b8-ed95-4943-86c5-4718c314015a",
   "metadata": {},
   "outputs": [
    {
     "data": {
      "text/plain": [
       "14380.358090686908"
      ]
     },
     "execution_count": 96,
     "metadata": {},
     "output_type": "execute_result"
    }
   ],
   "source": [
    "sum_"
   ]
  },
  {
   "cell_type": "code",
   "execution_count": 97,
   "id": "ee8b4f62-63b9-4f5f-99b6-67840b4b1df7",
   "metadata": {},
   "outputs": [
    {
     "data": {
      "text/plain": [
       "463.8825190544164"
      ]
     },
     "execution_count": 97,
     "metadata": {},
     "output_type": "execute_result"
    }
   ],
   "source": [
    "avg"
   ]
  },
  {
   "cell_type": "code",
   "execution_count": 98,
   "id": "8556cb57-ae07-4786-9641-6d4585428a09",
   "metadata": {},
   "outputs": [],
   "source": [
    "import dill\n",
    "with open(\"preprocessing.pkl\", \"wb\") as f:\n",
    "    dill.dump(preprocessor, f)"
   ]
  },
  {
   "cell_type": "code",
   "execution_count": 99,
   "id": "6d1e2431-535c-4965-9af4-3e37196c8409",
   "metadata": {},
   "outputs": [],
   "source": [
    "with open(\"training_prediction.pkl\", \"wb\") as f:\n",
    "    dill.dump(trainpred, f)"
   ]
  },
  {
   "cell_type": "code",
   "execution_count": 100,
   "id": "ca8a0a77-9bc2-46eb-b25e-09964f1f4c76",
   "metadata": {},
   "outputs": [],
   "source": [
    "import joblib"
   ]
  },
  {
   "cell_type": "code",
   "execution_count": 108,
   "id": "dd6bbc65-f799-489c-a062-0e67a18a922b",
   "metadata": {},
   "outputs": [
    {
     "data": {
      "text/plain": [
       "['preprocessor.pkl']"
      ]
     },
     "execution_count": 108,
     "metadata": {},
     "output_type": "execute_result"
    }
   ],
   "source": [
    "preprocessor = DataPreprocessor()\n",
    "joblib.dump(preprocessor, 'preprocessor.pkl')"
   ]
  },
  {
   "cell_type": "code",
   "execution_count": 109,
   "id": "3d200815-6969-4aab-84e3-086756975d33",
   "metadata": {},
   "outputs": [
    {
     "name": "stdout",
     "output_type": "stream",
     "text": [
      "Pandas version: 2.2.3\n",
      "Sklearn version: 1.6.1\n",
      "Joblib version: 1.4.2\n"
     ]
    }
   ],
   "source": [
    "import pandas as pd\n",
    "import sklearn\n",
    "import joblib\n",
    "\n",
    "print(f\"Pandas version: {pd.__version__}\")\n",
    "print(f\"Sklearn version: {sklearn.__version__}\")\n",
    "print(f\"Joblib version: {joblib.__version__}\")\n"
   ]
  },
  {
   "cell_type": "code",
   "execution_count": null,
   "id": "0c71c50f-a6d5-4963-b537-fcb1a60221fc",
   "metadata": {},
   "outputs": [],
   "source": []
  },
  {
   "cell_type": "code",
   "execution_count": null,
   "id": "bf509eed-52dd-4082-a5ac-6748bb466f7a",
   "metadata": {},
   "outputs": [],
   "source": []
  }
 ],
 "metadata": {
  "kernelspec": {
   "display_name": "Python 3 (ipykernel)",
   "language": "python",
   "name": "python3"
  },
  "language_info": {
   "codemirror_mode": {
    "name": "ipython",
    "version": 3
   },
   "file_extension": ".py",
   "mimetype": "text/x-python",
   "name": "python",
   "nbconvert_exporter": "python",
   "pygments_lexer": "ipython3",
   "version": "3.10.13"
  }
 },
 "nbformat": 4,
 "nbformat_minor": 5
}
