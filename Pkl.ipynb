{
 "cells": [
  {
   "cell_type": "code",
   "execution_count": 42,
   "id": "569431ce-8863-42ab-97d8-eb64b504c194",
   "metadata": {},
   "outputs": [],
   "source": [
    "import pandas as pd\n",
    "import dill\n",
    "import sklearn\n",
    "from sklearn.preprocessing import OneHotEncoder\n",
    "from sklearn.linear_model import ElasticNet\n",
    "from calendar import monthrange\n",
    "from datetime import timedelta"
   ]
  },
  {
   "cell_type": "code",
   "execution_count": 2,
   "id": "5f5867ff-9c4f-475a-ba57-5c2f5ea5b6f7",
   "metadata": {},
   "outputs": [
    {
     "data": {
      "text/html": [
       "<div>\n",
       "<style scoped>\n",
       "    .dataframe tbody tr th:only-of-type {\n",
       "        vertical-align: middle;\n",
       "    }\n",
       "\n",
       "    .dataframe tbody tr th {\n",
       "        vertical-align: top;\n",
       "    }\n",
       "\n",
       "    .dataframe thead th {\n",
       "        text-align: right;\n",
       "    }\n",
       "</style>\n",
       "<table border=\"1\" class=\"dataframe\">\n",
       "  <thead>\n",
       "    <tr style=\"text-align: right;\">\n",
       "      <th></th>\n",
       "      <th>Unnamed: 0</th>\n",
       "      <th>date</th>\n",
       "      <th>amount</th>\n",
       "    </tr>\n",
       "  </thead>\n",
       "  <tbody>\n",
       "    <tr>\n",
       "      <th>0</th>\n",
       "      <td>0</td>\n",
       "      <td>Jul 30, 2023</td>\n",
       "      <td>1.0</td>\n",
       "    </tr>\n",
       "    <tr>\n",
       "      <th>1</th>\n",
       "      <td>1</td>\n",
       "      <td>Aug 01, 2023</td>\n",
       "      <td>583.0</td>\n",
       "    </tr>\n",
       "    <tr>\n",
       "      <th>2</th>\n",
       "      <td>2</td>\n",
       "      <td>Aug 01, 2023</td>\n",
       "      <td>93.0</td>\n",
       "    </tr>\n",
       "    <tr>\n",
       "      <th>3</th>\n",
       "      <td>3</td>\n",
       "      <td>Aug 04, 2023</td>\n",
       "      <td>454.0</td>\n",
       "    </tr>\n",
       "    <tr>\n",
       "      <th>4</th>\n",
       "      <td>4</td>\n",
       "      <td>Aug 09, 2023</td>\n",
       "      <td>5500.0</td>\n",
       "    </tr>\n",
       "  </tbody>\n",
       "</table>\n",
       "</div>"
      ],
      "text/plain": [
       "   Unnamed: 0          date  amount\n",
       "0           0  Jul 30, 2023     1.0\n",
       "1           1  Aug 01, 2023   583.0\n",
       "2           2  Aug 01, 2023    93.0\n",
       "3           3  Aug 04, 2023   454.0\n",
       "4           4  Aug 09, 2023  5500.0"
      ]
     },
     "execution_count": 2,
     "metadata": {},
     "output_type": "execute_result"
    }
   ],
   "source": [
    "df = pd.read_csv('veda_mc.csv')\n",
    "df.head()"
   ]
  },
  {
   "cell_type": "code",
   "execution_count": 3,
   "id": "7b741bae-9f89-47de-940c-e949ebb4a0d0",
   "metadata": {},
   "outputs": [],
   "source": [
    "df = df.drop(columns=['Unnamed: 0'])"
   ]
  },
  {
   "cell_type": "code",
   "execution_count": 4,
   "id": "0a9616a0-43b5-4e8f-987e-b9ce63f9a2c1",
   "metadata": {},
   "outputs": [],
   "source": [
    "df = df.rename(columns = {'date': 'date',\n",
    "          'amount': 'price'})"
   ]
  },
  {
   "cell_type": "code",
   "execution_count": 30,
   "id": "7faf9914-b3b9-4eab-b606-42766994a05f",
   "metadata": {},
   "outputs": [],
   "source": [
    "with open(\"preprocessing.pkl\", \"rb\") as f:\n",
    "    prep = dill.load(f)\n",
    "df = prep.preprocess(df)"
   ]
  },
  {
   "cell_type": "code",
   "execution_count": 40,
   "id": "9edd0272-bd08-4348-8673-ecc6cf27ba72",
   "metadata": {},
   "outputs": [],
   "source": [
    "with open(\"training_prediction.pkl\", \"rb\") as f:\n",
    "    train_pred = dill.load(f)"
   ]
  },
  {
   "cell_type": "code",
   "execution_count": 44,
   "id": "adb9946a-d8dc-444a-8dc6-f916d15c7306",
   "metadata": {},
   "outputs": [
    {
     "name": "stdout",
     "output_type": "stream",
     "text": [
      "Model training complete.\n"
     ]
    }
   ],
   "source": [
    "each_day_prediction, total_spending, avg_spent = train_pred.traintest(df)"
   ]
  },
  {
   "cell_type": "code",
   "execution_count": 46,
   "id": "0a5f1024-38c0-4a35-b021-58b6bf2c3a37",
   "metadata": {},
   "outputs": [
    {
     "data": {
      "text/plain": [
       "array([14421.27344973])"
      ]
     },
     "execution_count": 46,
     "metadata": {},
     "output_type": "execute_result"
    }
   ],
   "source": [
    "total_spending"
   ]
  },
  {
   "cell_type": "code",
   "execution_count": 47,
   "id": "4140c666-a9dd-496b-9559-c9052f33dc8d",
   "metadata": {},
   "outputs": [
    {
     "data": {
      "text/plain": [
       "array([465.20236935])"
      ]
     },
     "execution_count": 47,
     "metadata": {},
     "output_type": "execute_result"
    }
   ],
   "source": [
    "avg_spent"
   ]
  },
  {
   "cell_type": "code",
   "execution_count": 45,
   "id": "e072c905-1bfe-4894-81c1-586cea0a8cd5",
   "metadata": {
    "scrolled": true
   },
   "outputs": [
    {
     "data": {
      "text/plain": [
       "[(array([1331.85006296]), 5),\n",
       " (array([0.]), 6),\n",
       " (array([1880.38382504]), 0),\n",
       " (array([0.]), 1),\n",
       " (array([1409.6175796]), 2),\n",
       " (array([474.86815696]), 3),\n",
       " (array([680.65743786]), 4),\n",
       " (array([846.88638086]), 5),\n",
       " (array([0.]), 6),\n",
       " (array([796.2489132]), 0),\n",
       " (array([0.]), 1),\n",
       " (array([841.74094121]), 2),\n",
       " (array([680.78003287]), 3),\n",
       " (array([323.89279763]), 4),\n",
       " (array([1248.53375571]), 5),\n",
       " (array([0.]), 6),\n",
       " (array([164.9322375]), 0),\n",
       " (array([0.]), 1),\n",
       " (array([557.28879238]), 2),\n",
       " (array([273.33322158]), 3),\n",
       " (array([0.]), 4),\n",
       " (array([290.17655641]), 5),\n",
       " (array([0.]), 6),\n",
       " (array([627.16697182]), 0),\n",
       " (array([0.]), 1),\n",
       " (array([571.70014143]), 2),\n",
       " (array([0.]), 3),\n",
       " (array([0.]), 4),\n",
       " (array([398.40159618]), 5),\n",
       " (array([0.]), 6),\n",
       " (array([889.63653105]), 0)]"
      ]
     },
     "execution_count": 45,
     "metadata": {},
     "output_type": "execute_result"
    }
   ],
   "source": [
    "each_day_prediction"
   ]
  }
 ],
 "metadata": {
  "kernelspec": {
   "display_name": "Python 3 (ipykernel)",
   "language": "python",
   "name": "python3"
  },
  "language_info": {
   "codemirror_mode": {
    "name": "ipython",
    "version": 3
   },
   "file_extension": ".py",
   "mimetype": "text/x-python",
   "name": "python",
   "nbconvert_exporter": "python",
   "pygments_lexer": "ipython3",
   "version": "3.10.13"
  }
 },
 "nbformat": 4,
 "nbformat_minor": 5
}
