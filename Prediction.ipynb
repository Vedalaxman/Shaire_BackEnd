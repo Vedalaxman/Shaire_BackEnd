{
 "cells": [
  {
   "cell_type": "code",
   "execution_count": 355,
   "id": "77e13cf1-3d1e-42b4-a899-828d0e046d5d",
   "metadata": {},
   "outputs": [
    {
     "name": "stdout",
     "output_type": "stream",
     "text": [
      "Data saved to spending.csv\n"
     ]
    }
   ],
   "source": [
    "import random\n",
    "import datetime\n",
    "import csv\n",
    "\n",
    "def generate_user_spending(seed=42):\n",
    "    random.seed(seed)\n",
    "    start_date = datetime.date(2025, 2, 1)\n",
    "    spending_data = []\n",
    "\n",
    "    for day in range(1000):\n",
    "        current_date = start_date + datetime.timedelta(days=day)\n",
    "        weekday = current_date.weekday()\n",
    "\n",
    "        if random.random() < 0.6:\n",
    "            continue\n",
    "\n",
    "        num_transactions = random.choices([0, 1, 2, 3, 4, 5], weights=[0.1, 0.4, 0.3, 0.1, 0.05, 0.05])[0]\n",
    "        if num_transactions == 0:\n",
    "            continue\n",
    "\n",
    "        for _ in range(num_transactions):\n",
    "            if weekday < 5:\n",
    "                hour = random.choices([12, 18, 20, 9, 15], weights=[0.3, 0.3, 0.2, 0.1, 0.1])[0]\n",
    "            else:\n",
    "                hour = random.choices([11, 14, 19, 10, 16], weights=[0.3, 0.3, 0.2, 0.1, 0.1])[0]\n",
    "\n",
    "            minute = random.randint(0, 59)\n",
    "            second = random.randint(0, 59)\n",
    "            transaction_time = datetime.time(hour, minute, second)\n",
    "\n",
    "            category = random.choices(\n",
    "                [\"groceries\", \"dining\", \"coffee\", \"transport\", \"entertainment\", \"shopping\", \"other\"],\n",
    "                weights=[0.25, 0.20, 0.15, 0.10, 0.10, 0.10, 0.10]\n",
    "            )[0]\n",
    "\n",
    "            if category == \"groceries\":\n",
    "                price = round(random.uniform(20, 150), 2)\n",
    "            elif category == \"dining\":\n",
    "                price = round(random.uniform(15, 80), 2)\n",
    "            elif category == \"coffee\":\n",
    "                price = round(random.uniform(15, 40), 2)\n",
    "            elif category == \"transport\":\n",
    "                price = round(random.uniform(20, 200), 2)\n",
    "            elif category == \"entertainment\":\n",
    "                price = round(random.uniform(10, 50), 2)\n",
    "            elif category == \"shopping\":\n",
    "                price = round(random.uniform(20, 200), 2)\n",
    "            else:\n",
    "                price = round(random.uniform(5, 50), 2)\n",
    "\n",
    "            spending_data.append({\n",
    "                \"date\": current_date.strftime(\"%Y-%m-%d\"),\n",
    "                \"time\": transaction_time.strftime(\"%H:%M:%S\"),\n",
    "                \"price\": price\n",
    "            })\n",
    "\n",
    "    return spending_data\n",
    "\n",
    "february_data = generate_user_spending()\n",
    "\n",
    "with open('spending.csv', 'w', newline='') as csvfile:\n",
    "    fieldnames = ['date', 'time', 'price']\n",
    "    writer = csv.DictWriter(csvfile, fieldnames=fieldnames)\n",
    "    writer.writeheader()\n",
    "    writer.writerows(february_data)\n",
    "\n",
    "print(\"Data saved to spending.csv\")\n"
   ]
  },
  {
   "cell_type": "code",
   "execution_count": 90,
   "id": "0024b4d3-84f5-4c9e-ae9c-fffdaae2a1fc",
   "metadata": {},
   "outputs": [],
   "source": [
    "import tensorflow as tf\n",
    "import pandas as pd\n",
    "import numpy as np\n",
    "from tensorflow import keras\n",
    "from keras.layers import Dense, Dropout, LSTM\n",
    "from keras.models import Sequential\n",
    "from keras.regularizers import l1_l2, l2\n",
    "from keras.optimizers import Adam\n",
    "from keras.initializers import HeNormal\n",
    "from keras.callbacks import EarlyStopping, ReduceLROnPlateau\n",
    "\n",
    "import sklearn\n",
    "from sklearn.model_selection import train_test_split, KFold\n",
    "from sklearn.preprocessing import MinMaxScaler, StandardScaler\n",
    "from sklearn.metrics import mean_squared_error, mean_absolute_error\n",
    "from sklearn.linear_model import Ridge\n",
    "from sklearn.tree import DecisionTreeRegressor\n",
    "from sklearn.ensemble import RandomForestRegressor\n",
    "from sklearn.svm import SVR"
   ]
  },
  {
   "cell_type": "code",
   "execution_count": null,
   "id": "fa4f8e3d-e077-4c4f-8d13-b79d8ede5775",
   "metadata": {},
   "outputs": [],
   "source": []
  },
  {
   "cell_type": "code",
   "execution_count": 356,
   "id": "30440a36-a0a1-4d1a-8659-8b2e55fbf9e5",
   "metadata": {},
   "outputs": [
    {
     "data": {
      "text/html": [
       "<div>\n",
       "<style scoped>\n",
       "    .dataframe tbody tr th:only-of-type {\n",
       "        vertical-align: middle;\n",
       "    }\n",
       "\n",
       "    .dataframe tbody tr th {\n",
       "        vertical-align: top;\n",
       "    }\n",
       "\n",
       "    .dataframe thead th {\n",
       "        text-align: right;\n",
       "    }\n",
       "</style>\n",
       "<table border=\"1\" class=\"dataframe\">\n",
       "  <thead>\n",
       "    <tr style=\"text-align: right;\">\n",
       "      <th></th>\n",
       "      <th>Unnamed: 0</th>\n",
       "      <th>DATE</th>\n",
       "      <th>WITHDRAWAL (DR)</th>\n",
       "    </tr>\n",
       "  </thead>\n",
       "  <tbody>\n",
       "    <tr>\n",
       "      <th>0</th>\n",
       "      <td>0</td>\n",
       "      <td>2022-11-01</td>\n",
       "      <td>0.0</td>\n",
       "    </tr>\n",
       "    <tr>\n",
       "      <th>1</th>\n",
       "      <td>1</td>\n",
       "      <td>2022-11-02</td>\n",
       "      <td>25.0</td>\n",
       "    </tr>\n",
       "    <tr>\n",
       "      <th>2</th>\n",
       "      <td>2</td>\n",
       "      <td>2022-11-05</td>\n",
       "      <td>0.0</td>\n",
       "    </tr>\n",
       "    <tr>\n",
       "      <th>3</th>\n",
       "      <td>3</td>\n",
       "      <td>2022-11-16</td>\n",
       "      <td>2.0</td>\n",
       "    </tr>\n",
       "    <tr>\n",
       "      <th>4</th>\n",
       "      <td>4</td>\n",
       "      <td>2022-11-16</td>\n",
       "      <td>19.0</td>\n",
       "    </tr>\n",
       "  </tbody>\n",
       "</table>\n",
       "</div>"
      ],
      "text/plain": [
       "   Unnamed: 0        DATE  WITHDRAWAL (DR)\n",
       "0           0  2022-11-01              0.0\n",
       "1           1  2022-11-02             25.0\n",
       "2           2  2022-11-05              0.0\n",
       "3           3  2022-11-16              2.0\n",
       "4           4  2022-11-16             19.0"
      ]
     },
     "execution_count": 356,
     "metadata": {},
     "output_type": "execute_result"
    }
   ],
   "source": [
    "df = pd.read_csv('giving2veda.csv')\n",
    "df.head()"
   ]
  },
  {
   "cell_type": "code",
   "execution_count": 357,
   "id": "01c27c8e-a5b6-40aa-af60-b43e04058124",
   "metadata": {},
   "outputs": [],
   "source": [
    "df = df.drop(columns=['Unnamed: 0'])"
   ]
  },
  {
   "cell_type": "code",
   "execution_count": 358,
   "id": "64a5c0be-1df4-4ba6-b331-a2b0218c10af",
   "metadata": {},
   "outputs": [
    {
     "data": {
      "text/html": [
       "<div>\n",
       "<style scoped>\n",
       "    .dataframe tbody tr th:only-of-type {\n",
       "        vertical-align: middle;\n",
       "    }\n",
       "\n",
       "    .dataframe tbody tr th {\n",
       "        vertical-align: top;\n",
       "    }\n",
       "\n",
       "    .dataframe thead th {\n",
       "        text-align: right;\n",
       "    }\n",
       "</style>\n",
       "<table border=\"1\" class=\"dataframe\">\n",
       "  <thead>\n",
       "    <tr style=\"text-align: right;\">\n",
       "      <th></th>\n",
       "      <th>date</th>\n",
       "      <th>price</th>\n",
       "    </tr>\n",
       "  </thead>\n",
       "  <tbody>\n",
       "    <tr>\n",
       "      <th>0</th>\n",
       "      <td>2022-11-01</td>\n",
       "      <td>0.0</td>\n",
       "    </tr>\n",
       "    <tr>\n",
       "      <th>1</th>\n",
       "      <td>2022-11-02</td>\n",
       "      <td>25.0</td>\n",
       "    </tr>\n",
       "    <tr>\n",
       "      <th>2</th>\n",
       "      <td>2022-11-05</td>\n",
       "      <td>0.0</td>\n",
       "    </tr>\n",
       "    <tr>\n",
       "      <th>3</th>\n",
       "      <td>2022-11-16</td>\n",
       "      <td>2.0</td>\n",
       "    </tr>\n",
       "    <tr>\n",
       "      <th>4</th>\n",
       "      <td>2022-11-16</td>\n",
       "      <td>19.0</td>\n",
       "    </tr>\n",
       "  </tbody>\n",
       "</table>\n",
       "</div>"
      ],
      "text/plain": [
       "         date  price\n",
       "0  2022-11-01    0.0\n",
       "1  2022-11-02   25.0\n",
       "2  2022-11-05    0.0\n",
       "3  2022-11-16    2.0\n",
       "4  2022-11-16   19.0"
      ]
     },
     "execution_count": 358,
     "metadata": {},
     "output_type": "execute_result"
    }
   ],
   "source": [
    "df = df.rename(columns = {'DATE': 'date',\n",
    "          'WITHDRAWAL (DR)': 'price'})\n",
    "df.head()"
   ]
  },
  {
   "cell_type": "code",
   "execution_count": 359,
   "id": "711d92d6-ee27-48b2-94c7-865ce811677a",
   "metadata": {},
   "outputs": [
    {
     "data": {
      "text/plain": [
       "(532, 2)"
      ]
     },
     "execution_count": 359,
     "metadata": {},
     "output_type": "execute_result"
    }
   ],
   "source": [
    "df.shape"
   ]
  },
  {
   "cell_type": "code",
   "execution_count": 360,
   "id": "42ed72f2-55b9-4029-8eec-c804a2acd777",
   "metadata": {},
   "outputs": [],
   "source": [
    "df['date'] = pd.to_datetime(df['date'])\n",
    "date_range = pd.date_range(start=df['date'].min(), end=df['date'].max(), freq='D')\n",
    "full_df = pd.DataFrame(date_range, columns=['date'])\n",
    "df = pd.merge(full_df, df, on='date', how='left')\n",
    "df['price'] = df['price'].fillna(0)\n"
   ]
  },
  {
   "cell_type": "code",
   "execution_count": 361,
   "id": "8b3d433d-7d6e-442a-bf84-d66a91c2f5b6",
   "metadata": {},
   "outputs": [],
   "source": [
    "df = df.groupby('date').agg({\n",
    "    'price': 'sum'\n",
    "}).rename(columns={'price': 'total_price'})\n",
    "df.reset_index(inplace=True)"
   ]
  },
  {
   "cell_type": "code",
   "execution_count": null,
   "id": "ce3e284e-9e1c-4951-93a3-02d74a0b6b7c",
   "metadata": {},
   "outputs": [],
   "source": []
  },
  {
   "cell_type": "code",
   "execution_count": 362,
   "id": "75055799-87f4-4cf6-8f28-bab38f6143c4",
   "metadata": {},
   "outputs": [
    {
     "data": {
      "text/plain": [
       "(851, 2)"
      ]
     },
     "execution_count": 362,
     "metadata": {},
     "output_type": "execute_result"
    }
   ],
   "source": [
    "df.shape"
   ]
  },
  {
   "cell_type": "code",
   "execution_count": 363,
   "id": "20de1100-8b0e-4e2e-abaf-01de16280144",
   "metadata": {},
   "outputs": [],
   "source": [
    "df1 = df.copy()\n",
    "df1['date'] = pd.to_datetime(df1['date'])"
   ]
  },
  {
   "cell_type": "code",
   "execution_count": 364,
   "id": "9e26e25b-70c7-46b8-a8e6-73473b759a9e",
   "metadata": {},
   "outputs": [],
   "source": [
    "def extract_date_features(df, date_col):\n",
    "    df[date_col] = pd.to_datetime(df[date_col])\n",
    "    df['month'] = df[date_col].dt.month\n",
    "    df['day_of_week'] = df[date_col].dt.dayofweek\n",
    "    df['day_sin'] = np.sin(2 * np.pi * df['day_of_week'] / 7)\n",
    "    df['day_cos'] = np.cos(2 * np.pi * df['day_of_week'] / 7)\n",
    "    df['month_sin'] = np.sin(2 * np.pi * df['month'] / 12)\n",
    "    df['month_cos'] = np.cos(2 * np.pi * df['month'] / 12)\n",
    "    \n",
    "    return df\n",
    "df = extract_date_features(df, 'date')"
   ]
  },
  {
   "cell_type": "code",
   "execution_count": 366,
   "id": "52ef4848-1087-441f-b0ac-27bd75e26847",
   "metadata": {},
   "outputs": [
    {
     "data": {
      "text/plain": [
       "(851, 17)"
      ]
     },
     "execution_count": 366,
     "metadata": {},
     "output_type": "execute_result"
    }
   ],
   "source": [
    "df.shape"
   ]
  },
  {
   "cell_type": "code",
   "execution_count": 367,
   "id": "2f5d7d7d-ca6b-4543-a53a-ce5c627814c6",
   "metadata": {},
   "outputs": [
    {
     "data": {
      "text/plain": [
       "count     851.000000\n",
       "mean      117.249941\n",
       "std       510.111668\n",
       "min         0.000000\n",
       "25%         0.000000\n",
       "50%         0.000000\n",
       "75%        20.000000\n",
       "max      5000.000000\n",
       "Name: total_price, dtype: float64"
      ]
     },
     "execution_count": 367,
     "metadata": {},
     "output_type": "execute_result"
    }
   ],
   "source": [
    "df['total_price'].describe()"
   ]
  },
  {
   "cell_type": "code",
   "execution_count": 368,
   "id": "e753a7ed-f10e-4f26-b421-f7eb23add9e1",
   "metadata": {},
   "outputs": [],
   "source": [
    "df.dropna(inplace=True)"
   ]
  },
  {
   "cell_type": "code",
   "execution_count": 369,
   "id": "2f62a2af-3ec9-4834-bd20-4d98625ec48e",
   "metadata": {},
   "outputs": [],
   "source": [
    "df.sort_values('date', inplace=True)\n",
    "df.set_index('date', inplace=True)"
   ]
  },
  {
   "cell_type": "code",
   "execution_count": 370,
   "id": "83264716-c11e-4713-83b8-c83f7bace0bd",
   "metadata": {},
   "outputs": [
    {
     "data": {
      "text/plain": [
       "(830, 16)"
      ]
     },
     "execution_count": 370,
     "metadata": {},
     "output_type": "execute_result"
    }
   ],
   "source": [
    "df.shape"
   ]
  },
  {
   "cell_type": "code",
   "execution_count": 371,
   "id": "2dd479c9-2dda-4ad9-be9f-08ad0457507c",
   "metadata": {},
   "outputs": [
    {
     "data": {
      "text/plain": [
       "(834, 15)"
      ]
     },
     "execution_count": 371,
     "metadata": {},
     "output_type": "execute_result"
    }
   ],
   "source": [
    "x.shape"
   ]
  },
  {
   "cell_type": "code",
   "execution_count": 372,
   "id": "e9b324c2-81c5-4c78-9551-62516bddb4ca",
   "metadata": {},
   "outputs": [],
   "source": [
    "x = df.drop(columns=['total_price'])\n",
    "y = df['total_price']"
   ]
  },
  {
   "cell_type": "code",
   "execution_count": 373,
   "id": "477c1b7f-261f-4fba-9d0e-bf3bc908fb11",
   "metadata": {},
   "outputs": [],
   "source": [
    "scale_x = StandardScaler()\n",
    "scale_y = StandardScaler()\n",
    "x_scaled = scale_x.fit_transform(x)\n",
    "y_scaled = scale_y.fit_transform(y.values.reshape(-1,1))"
   ]
  },
  {
   "cell_type": "code",
   "execution_count": null,
   "id": "bcf862eb-524d-4371-85c0-1a980cf0baef",
   "metadata": {},
   "outputs": [],
   "source": []
  },
  {
   "cell_type": "code",
   "execution_count": 387,
   "id": "56e390c0-5f83-4aea-8b90-b71f7bc6eb5b",
   "metadata": {},
   "outputs": [],
   "source": [
    "l = []"
   ]
  },
  {
   "cell_type": "markdown",
   "id": "d87c119d-8895-4836-94da-01a0dc19fe55",
   "metadata": {},
   "source": [
    "#ST"
   ]
  },
  {
   "cell_type": "code",
   "execution_count": 412,
   "id": "4233a874-d70f-41b0-a085-a32363c1bf24",
   "metadata": {},
   "outputs": [],
   "source": [
    "df = df1.copy()"
   ]
  },
  {
   "cell_type": "code",
   "execution_count": 413,
   "id": "ea99b3ab-78b4-4580-85cf-29bedae8ba49",
   "metadata": {},
   "outputs": [],
   "source": [
    "def extract_date_features(df, date_col):\n",
    "    df[date_col] = pd.to_datetime(df[date_col])\n",
    "    df['month'] = df[date_col].dt.month\n",
    "    df['day_of_week'] = df[date_col].dt.dayofweek\n",
    "    df['day_sin'] = np.sin(2 * np.pi * df['day_of_week'] / 7)\n",
    "    df['day_cos'] = np.cos(2 * np.pi * df['day_of_week'] / 7)\n",
    "    df['month_sin'] = np.sin(2 * np.pi * df['month'] / 12)\n",
    "    df['month_cos'] = np.cos(2 * np.pi * df['month'] / 12)\n",
    "    \n",
    "    return df\n",
    "df = extract_date_features(df, 'date')"
   ]
  },
  {
   "cell_type": "code",
   "execution_count": 414,
   "id": "22052ddf-7fd3-44b4-be9f-bf0de42a4d07",
   "metadata": {},
   "outputs": [],
   "source": [
    "for i in list(range(1, 8)) + [14, 21]:\n",
    "    df[f'lag_{i}'] = df['total_price'].shift(i)"
   ]
  },
  {
   "cell_type": "code",
   "execution_count": 415,
   "id": "466b0959-a94b-4ddc-a49a-eb99071d039e",
   "metadata": {},
   "outputs": [],
   "source": [
    "df.dropna(inplace=True)"
   ]
  },
  {
   "cell_type": "code",
   "execution_count": 416,
   "id": "8f966e5e-3bb3-4bb3-b166-304cf9c9986f",
   "metadata": {},
   "outputs": [],
   "source": [
    "df.sort_values('date', inplace=True)\n",
    "df.set_index('date', inplace=True)"
   ]
  },
  {
   "cell_type": "code",
   "execution_count": 417,
   "id": "c2535cc4-438f-4a11-abb9-9b21115bceb5",
   "metadata": {},
   "outputs": [
    {
     "data": {
      "text/plain": [
       "(832, 16)"
      ]
     },
     "execution_count": 417,
     "metadata": {},
     "output_type": "execute_result"
    }
   ],
   "source": [
    "df.shape"
   ]
  },
  {
   "cell_type": "code",
   "execution_count": null,
   "id": "69d5da11-d619-48b8-9ca7-e001e2892732",
   "metadata": {},
   "outputs": [],
   "source": []
  },
  {
   "cell_type": "code",
   "execution_count": 418,
   "id": "eabf3a7d-8d1e-4f07-8af4-395a223c9b98",
   "metadata": {},
   "outputs": [
    {
     "data": {
      "text/plain": [
       "(832, 15)"
      ]
     },
     "execution_count": 418,
     "metadata": {},
     "output_type": "execute_result"
    }
   ],
   "source": [
    "x.shape"
   ]
  },
  {
   "cell_type": "code",
   "execution_count": 419,
   "id": "6ab07b79-a8ea-42e6-86fd-1e9904854980",
   "metadata": {},
   "outputs": [],
   "source": [
    "scale_x = StandardScaler()\n",
    "scale_y = StandardScaler()\n",
    "x_scaled = scale_x.fit_transform(x)\n",
    "y_scaled = scale_y.fit_transform(y.reshape(-1,1))"
   ]
  },
  {
   "cell_type": "code",
   "execution_count": 420,
   "id": "cd6ee2fe-550f-446a-8ae6-0dd66a34efe3",
   "metadata": {},
   "outputs": [],
   "source": [
    "x_train, x_test, y_train, y_test = train_test_split(x_scaled,y_scaled, test_size=0.2, random_state=42)"
   ]
  },
  {
   "cell_type": "code",
   "execution_count": 421,
   "id": "16998882-5565-4d43-bd10-3c9ae6b25940",
   "metadata": {},
   "outputs": [
    {
     "name": "stdout",
     "output_type": "stream",
     "text": [
      "Best Parameters: {'C': 0.1, 'degree': 2, 'epsilon': 0.1, 'gamma': 'auto', 'kernel': 'linear'}\n"
     ]
    },
    {
     "name": "stderr",
     "output_type": "stream",
     "text": [
      "D:\\Anaconda3\\envs\\tf_env\\lib\\site-packages\\sklearn\\utils\\validation.py:1408: DataConversionWarning: A column-vector y was passed when a 1d array was expected. Please change the shape of y to (n_samples, ), for example using ravel().\n",
      "  y = column_or_1d(y, warn=True)\n"
     ]
    }
   ],
   "source": [
    "from sklearn.model_selection import GridSearchCV\n",
    "\n",
    "param_grid = {\n",
    "    'C': [0.1, 0.01, 0.001],\n",
    "    'kernel': ['linear'],\n",
    "    'epsilon': [0.1, 0.05],\n",
    "    'gamma': ['auto'],\n",
    "    'degree': [2,3]\n",
    "}\n",
    "\n",
    "\n",
    "grid_search = SVR(C=0.01, kernel='linear')\n",
    "grid_search.fit(x_train, y_train)\n",
    "\n",
    "print(\"Best Parameters:\", grid_search.best_params_)\n"
   ]
  },
  {
   "cell_type": "code",
   "execution_count": 422,
   "id": "52950e56-cb3d-4abf-95a2-e1a6d0e4112c",
   "metadata": {},
   "outputs": [],
   "source": [
    "y_pred = grid_search.predict(x_test)\n",
    "y_pred_original = scale_y.inverse_transform(y_pred.reshape(-1,1))\n",
    "y_test_original = scale_y.inverse_transform(y_test.reshape(-1,1))"
   ]
  },
  {
   "cell_type": "code",
   "execution_count": 423,
   "id": "5cde5f54-1e26-4d00-86cc-68a675c36619",
   "metadata": {},
   "outputs": [
    {
     "data": {
      "text/plain": [
       "104188.33067752657"
      ]
     },
     "execution_count": 423,
     "metadata": {},
     "output_type": "execute_result"
    }
   ],
   "source": [
    "score = (mean_squared_error(y_test_original, y_pred_original))**1/2\n",
    "score"
   ]
  },
  {
   "cell_type": "code",
   "execution_count": 424,
   "id": "011c419e-004d-4c82-b418-521b874eb2e7",
   "metadata": {},
   "outputs": [
    {
     "data": {
      "text/plain": [
       "0.39261069066372073"
      ]
     },
     "execution_count": 424,
     "metadata": {},
     "output_type": "execute_result"
    }
   ],
   "source": [
    "score = (mean_squared_error(y_test, y_pred))**1/2\n",
    "score"
   ]
  },
  {
   "cell_type": "code",
   "execution_count": 425,
   "id": "5e15b37c-f443-4e07-b8cb-f41e67156f58",
   "metadata": {},
   "outputs": [
    {
     "data": {
      "text/plain": [
       "130.38935317730625"
      ]
     },
     "execution_count": 425,
     "metadata": {},
     "output_type": "execute_result"
    }
   ],
   "source": [
    "score = mean_absolute_error(y_test_original, y_pred_original)\n",
    "score"
   ]
  },
  {
   "cell_type": "code",
   "execution_count": 426,
   "id": "c0982921-5579-4b6f-9141-2c456f34279d",
   "metadata": {},
   "outputs": [
    {
     "data": {
      "text/plain": [
       "0.2531125339355423"
      ]
     },
     "execution_count": 426,
     "metadata": {},
     "output_type": "execute_result"
    }
   ],
   "source": [
    "score = mean_absolute_error(y_test, y_pred)\n",
    "score"
   ]
  },
  {
   "cell_type": "code",
   "execution_count": 427,
   "id": "7023c9a9-49c3-40b3-bac8-0d95f1c14afe",
   "metadata": {},
   "outputs": [
    {
     "data": {
      "text/plain": [
       "(832, 15)"
      ]
     },
     "execution_count": 427,
     "metadata": {},
     "output_type": "execute_result"
    }
   ],
   "source": [
    "x.shape"
   ]
  },
  {
   "cell_type": "code",
   "execution_count": 428,
   "id": "20411c05-0d5b-4f3e-a049-0112fa82fdac",
   "metadata": {},
   "outputs": [
    {
     "data": {
      "text/plain": [
       "array([[51.48874352]])"
      ]
     },
     "execution_count": 428,
     "metadata": {},
     "output_type": "execute_result"
    }
   ],
   "source": [
    "from datetime import datetime, timedelta\n",
    "last_date = pd.to_datetime(df1.iloc[-1,0])\n",
    "next_day = last_date + timedelta(days=1)\n",
    "next_data = {\n",
    "    'month': next_day.month,\n",
    "    'day_of_week': next_day.weekday(),\n",
    "    'day_sin': np.sin(2 * np.pi * next_day.day / 31),\n",
    "    'day_cos': np.cos(2 * np.pi * next_day.day / 31),\n",
    "    'month_sin': np.sin(2 * np.pi * next_day.month / 12),\n",
    "    'month_cos': np.cos(2 * np.pi * next_day.month / 12),\n",
    "}\n",
    "for i in list(range(1, 8)) + [14, 21]:\n",
    "    next_data[f'lag_{i}'] = df.iloc[-i, 0] \n",
    "next_data = pd.DataFrame([next_data])\n",
    "next_data_values = scale_x.fit_transform(next_data)\n",
    "predicted_value = grid_search.predict(next_data_values)\n",
    "predicted_value = scale_y.inverse_transform(predicted_value.reshape((-1,1)))\n",
    "predicted_value"
   ]
  },
  {
   "cell_type": "code",
   "execution_count": 408,
   "id": "5dd89a52-6aee-416c-a7ca-13c6506ab9ed",
   "metadata": {},
   "outputs": [
    {
     "data": {
      "text/html": [
       "<div>\n",
       "<style scoped>\n",
       "    .dataframe tbody tr th:only-of-type {\n",
       "        vertical-align: middle;\n",
       "    }\n",
       "\n",
       "    .dataframe tbody tr th {\n",
       "        vertical-align: top;\n",
       "    }\n",
       "\n",
       "    .dataframe thead th {\n",
       "        text-align: right;\n",
       "    }\n",
       "</style>\n",
       "<table border=\"1\" class=\"dataframe\">\n",
       "  <thead>\n",
       "    <tr style=\"text-align: right;\">\n",
       "      <th></th>\n",
       "      <th>month</th>\n",
       "      <th>day_of_week</th>\n",
       "      <th>day_sin</th>\n",
       "      <th>day_cos</th>\n",
       "      <th>month_sin</th>\n",
       "      <th>month_cos</th>\n",
       "      <th>lag_1</th>\n",
       "      <th>lag_2</th>\n",
       "      <th>lag_3</th>\n",
       "      <th>lag_4</th>\n",
       "      <th>lag_5</th>\n",
       "      <th>lag_6</th>\n",
       "      <th>lag_7</th>\n",
       "      <th>lag_14</th>\n",
       "      <th>lag_21</th>\n",
       "    </tr>\n",
       "  </thead>\n",
       "  <tbody>\n",
       "    <tr>\n",
       "      <th>0</th>\n",
       "      <td>3</td>\n",
       "      <td>6</td>\n",
       "      <td>0.394356</td>\n",
       "      <td>0.918958</td>\n",
       "      <td>1.0</td>\n",
       "      <td>6.123234e-17</td>\n",
       "      <td>51.552091</td>\n",
       "      <td>0.0</td>\n",
       "      <td>0.0</td>\n",
       "      <td>25.0</td>\n",
       "      <td>0.0</td>\n",
       "      <td>95.0</td>\n",
       "      <td>0.0</td>\n",
       "      <td>87.0</td>\n",
       "      <td>0.0</td>\n",
       "    </tr>\n",
       "  </tbody>\n",
       "</table>\n",
       "</div>"
      ],
      "text/plain": [
       "   month  day_of_week   day_sin   day_cos  month_sin     month_cos      lag_1  \\\n",
       "0      3            6  0.394356  0.918958        1.0  6.123234e-17  51.552091   \n",
       "\n",
       "   lag_2  lag_3  lag_4  lag_5  lag_6  lag_7  lag_14  lag_21  \n",
       "0    0.0    0.0   25.0    0.0   95.0    0.0    87.0     0.0  "
      ]
     },
     "execution_count": 408,
     "metadata": {},
     "output_type": "execute_result"
    }
   ],
   "source": [
    "next_data"
   ]
  },
  {
   "cell_type": "code",
   "execution_count": 407,
   "id": "80bada22-3102-4465-91db-b4983d8f31c9",
   "metadata": {},
   "outputs": [
    {
     "data": {
      "text/plain": [
       "Timestamp('2025-03-01 00:00:00')"
      ]
     },
     "execution_count": 407,
     "metadata": {},
     "output_type": "execute_result"
    }
   ],
   "source": [
    "df1.iloc[-1,0]"
   ]
  },
  {
   "cell_type": "code",
   "execution_count": 409,
   "id": "54bda276-ec36-4e6c-98cf-80591f2c3b15",
   "metadata": {},
   "outputs": [],
   "source": [
    "y = np.append(y, predicted_value)\n",
    "x = pd.concat([x, next_data], ignore_index=True)\n",
    "next_data['total_price'] = predicted_value[0]\n",
    "next_data['date'] = next_day\n",
    "df1 = pd.concat([df1, next_data], ignore_index=True)"
   ]
  },
  {
   "cell_type": "code",
   "execution_count": 410,
   "id": "2929bae8-f238-4220-8326-f5f47b64a07d",
   "metadata": {},
   "outputs": [],
   "source": [
    "l.append(predicted_value[0])"
   ]
  },
  {
   "cell_type": "code",
   "execution_count": 411,
   "id": "fb304511-1e39-4098-bd7e-1d656890ab8b",
   "metadata": {},
   "outputs": [
    {
     "data": {
      "text/plain": [
       "[array([51.52590215])]"
      ]
     },
     "execution_count": 411,
     "metadata": {},
     "output_type": "execute_result"
    }
   ],
   "source": [
    "l"
   ]
  },
  {
   "cell_type": "code",
   "execution_count": 297,
   "id": "1c8a8f9f-ab54-4b03-a8b3-346e55d41288",
   "metadata": {},
   "outputs": [
    {
     "data": {
      "text/plain": [
       "month            2.000000\n",
       "day_of_week      4.000000\n",
       "day_sin         -0.433884\n",
       "day_cos         -0.900969\n",
       "month_sin        0.866025\n",
       "month_cos        0.500000\n",
       "lag_1            0.000000\n",
       "lag_2           25.000000\n",
       "lag_3            0.000000\n",
       "lag_4           95.000000\n",
       "lag_5            0.000000\n",
       "lag_6            0.000000\n",
       "lag_7           40.000000\n",
       "lag_14         500.000000\n",
       "lag_21           0.000000\n",
       "Name: 829, dtype: float64"
      ]
     },
     "execution_count": 297,
     "metadata": {},
     "output_type": "execute_result"
    }
   ],
   "source": [
    "x.iloc[-2]"
   ]
  },
  {
   "cell_type": "code",
   "execution_count": 298,
   "id": "52c89e70-b387-472b-b6fc-ad006439321f",
   "metadata": {},
   "outputs": [
    {
     "data": {
      "text/plain": [
       "month          3.000000e+00\n",
       "day_of_week    6.000000e+00\n",
       "day_sin        3.943559e-01\n",
       "day_cos        9.189578e-01\n",
       "month_sin      1.000000e+00\n",
       "month_cos      6.123234e-17\n",
       "lag_1          0.000000e+00\n",
       "lag_2          0.000000e+00\n",
       "lag_3          2.500000e+01\n",
       "lag_4          0.000000e+00\n",
       "lag_5          9.500000e+01\n",
       "lag_6          0.000000e+00\n",
       "lag_7          0.000000e+00\n",
       "lag_14         0.000000e+00\n",
       "lag_21         0.000000e+00\n",
       "Name: 830, dtype: float64"
      ]
     },
     "execution_count": 298,
     "metadata": {},
     "output_type": "execute_result"
    }
   ],
   "source": [
    "x.iloc[-1]"
   ]
  },
  {
   "cell_type": "code",
   "execution_count": 140,
   "id": "e7f246d4-b3e0-4bdf-8a54-dc1433546103",
   "metadata": {},
   "outputs": [
    {
     "data": {
      "text/plain": [
       "25.0"
      ]
     },
     "execution_count": 140,
     "metadata": {},
     "output_type": "execute_result"
    }
   ],
   "source": [
    "df.iloc[-3,0]"
   ]
  },
  {
   "cell_type": "code",
   "execution_count": 131,
   "id": "55f77a42-0424-4ce4-9ff0-38631dccee8e",
   "metadata": {},
   "outputs": [
    {
     "data": {
      "text/plain": [
       "total_price      0.000000\n",
       "month            2.000000\n",
       "day_of_week      4.000000\n",
       "day_sin         -0.433884\n",
       "day_cos         -0.900969\n",
       "month_sin        0.866025\n",
       "month_cos        0.500000\n",
       "lag_1            0.000000\n",
       "lag_2           25.000000\n",
       "lag_3            0.000000\n",
       "lag_4           95.000000\n",
       "lag_5            0.000000\n",
       "lag_6            0.000000\n",
       "lag_7           40.000000\n",
       "lag_14         500.000000\n",
       "lag_21           0.000000\n",
       "Name: 2025-02-28 00:00:00, dtype: float64"
      ]
     },
     "execution_count": 131,
     "metadata": {},
     "output_type": "execute_result"
    }
   ],
   "source": [
    "df.iloc[-1]"
   ]
  },
  {
   "cell_type": "code",
   "execution_count": null,
   "id": "5840cb69-656b-4090-9d66-c4269302932b",
   "metadata": {},
   "outputs": [],
   "source": []
  },
  {
   "cell_type": "code",
   "execution_count": null,
   "id": "869b2671-1d43-4739-8e81-3e770d5919dc",
   "metadata": {},
   "outputs": [],
   "source": []
  },
  {
   "cell_type": "code",
   "execution_count": null,
   "id": "3913e9b8-9e03-42df-9587-00b0536a28de",
   "metadata": {},
   "outputs": [],
   "source": []
  },
  {
   "cell_type": "code",
   "execution_count": null,
   "id": "d6c4e771-27f2-4c03-b669-3c71fafeda62",
   "metadata": {},
   "outputs": [],
   "source": []
  },
  {
   "cell_type": "code",
   "execution_count": null,
   "id": "4b1a83b6-2bb5-4e9b-8f23-1f8c27942406",
   "metadata": {},
   "outputs": [],
   "source": []
  },
  {
   "cell_type": "code",
   "execution_count": null,
   "id": "9869859f-27e1-4f09-9c0c-ff99d507a204",
   "metadata": {},
   "outputs": [],
   "source": []
  },
  {
   "cell_type": "code",
   "execution_count": null,
   "id": "bda00c17-b5e0-4f2d-a433-8e341c0f23bb",
   "metadata": {},
   "outputs": [],
   "source": []
  },
  {
   "cell_type": "code",
   "execution_count": null,
   "id": "24a599db-6973-4521-bda8-f30e473b3491",
   "metadata": {},
   "outputs": [],
   "source": []
  },
  {
   "cell_type": "code",
   "execution_count": null,
   "id": "67a53e82-c70e-44b4-98a0-fad6ad31ae4a",
   "metadata": {},
   "outputs": [],
   "source": []
  },
  {
   "cell_type": "code",
   "execution_count": null,
   "id": "16b8a959-e058-4c9f-8340-8004f4b3a7f7",
   "metadata": {},
   "outputs": [],
   "source": []
  },
  {
   "cell_type": "code",
   "execution_count": null,
   "id": "78e63678-9d3a-4d12-9ca8-507caee5c87b",
   "metadata": {},
   "outputs": [],
   "source": []
  },
  {
   "cell_type": "code",
   "execution_count": null,
   "id": "4e47f772-660c-471a-8559-518469597be5",
   "metadata": {},
   "outputs": [],
   "source": []
  },
  {
   "cell_type": "code",
   "execution_count": null,
   "id": "07b0b406-72ec-4fc9-8023-60d7e3213a6a",
   "metadata": {},
   "outputs": [],
   "source": []
  },
  {
   "cell_type": "code",
   "execution_count": null,
   "id": "2746f43c-52ff-4b3c-8824-7af400f3332d",
   "metadata": {},
   "outputs": [],
   "source": []
  },
  {
   "cell_type": "code",
   "execution_count": 257,
   "id": "c0be4985-20b2-4ba8-88a7-1fd7fff6db67",
   "metadata": {},
   "outputs": [
    {
     "data": {
      "text/plain": [
       "(39, 15)"
      ]
     },
     "execution_count": 257,
     "metadata": {},
     "output_type": "execute_result"
    }
   ],
   "source": [
    "x.shape"
   ]
  },
  {
   "cell_type": "code",
   "execution_count": 259,
   "id": "cea85108-2ab0-47d3-a496-5a2eb611ff4e",
   "metadata": {},
   "outputs": [],
   "source": [
    "scale_x = MinMaxScaler()\n",
    "scale_y = MinMaxScaler()\n",
    "x_scaled = scale_x.fit_transform(x)\n",
    "y_scaled = scale_y.fit_transform(y.values.reshape(-1,1))"
   ]
  },
  {
   "cell_type": "code",
   "execution_count": 260,
   "id": "0c77b28e-3e99-485a-a63e-9b8ccf860a58",
   "metadata": {},
   "outputs": [],
   "source": [
    "def create_sequences(X, y, lookback):\n",
    "    Xs, ys = [], []\n",
    "    for i in range(len(X) - lookback):\n",
    "        Xs.append(X[i:(i + lookback)])\n",
    "        ys.append(y[i + lookback])\n",
    "    return np.array(Xs), np.array(ys)\n",
    "lookback = 7\n",
    "x_seq, y_seq = create_sequences(x_scaled, y_scaled, lookback)"
   ]
  },
  {
   "cell_type": "code",
   "execution_count": 261,
   "id": "485d4aa3-d870-4c38-93fe-0fa17b7c4186",
   "metadata": {},
   "outputs": [
    {
     "data": {
      "text/plain": [
       "(32, 7, 15)"
      ]
     },
     "execution_count": 261,
     "metadata": {},
     "output_type": "execute_result"
    }
   ],
   "source": [
    "x_seq.shape"
   ]
  },
  {
   "cell_type": "code",
   "execution_count": 262,
   "id": "4a1f441e-71ed-4806-bfab-464ddf3ac975",
   "metadata": {},
   "outputs": [],
   "source": [
    "x_train, x_test, y_train, y_test = train_test_split(x_seq, y_seq, test_size=0.2)"
   ]
  },
  {
   "cell_type": "code",
   "execution_count": 263,
   "id": "6e7c02dd-5be0-4816-b30f-b770a41af01e",
   "metadata": {
    "scrolled": true
   },
   "outputs": [
    {
     "name": "stdout",
     "output_type": "stream",
     "text": [
      "Epoch 1/200\n",
      "4/4 [==============================] - 2s 146ms/step - loss: 1.1772 - val_loss: 0.4858 - lr: 0.0010\n",
      "Epoch 2/200\n",
      "4/4 [==============================] - 0s 14ms/step - loss: 0.7016 - val_loss: 0.3215 - lr: 0.0010\n",
      "Epoch 3/200\n",
      "4/4 [==============================] - 0s 16ms/step - loss: 0.6448 - val_loss: 0.2300 - lr: 0.0010\n",
      "Epoch 4/200\n",
      "4/4 [==============================] - 0s 16ms/step - loss: 0.2958 - val_loss: 0.1951 - lr: 0.0010\n",
      "Epoch 5/200\n",
      "4/4 [==============================] - 0s 16ms/step - loss: 0.3544 - val_loss: 0.1845 - lr: 0.0010\n",
      "Epoch 6/200\n",
      "4/4 [==============================] - 0s 15ms/step - loss: 0.2442 - val_loss: 0.1875 - lr: 0.0010\n",
      "Epoch 7/200\n",
      "4/4 [==============================] - 0s 15ms/step - loss: 0.2718 - val_loss: 0.2005 - lr: 0.0010\n",
      "Epoch 8/200\n",
      "4/4 [==============================] - 0s 15ms/step - loss: 0.3180 - val_loss: 0.2134 - lr: 0.0010\n",
      "Epoch 9/200\n",
      "4/4 [==============================] - 0s 19ms/step - loss: 0.2414 - val_loss: 0.2226 - lr: 0.0010\n",
      "Fold 1 Validation Loss: 0.18453772366046906\n",
      "Epoch 1/200\n",
      "4/4 [==============================] - 2s 125ms/step - loss: 0.5368 - val_loss: 0.2913 - lr: 0.0010\n",
      "Epoch 2/200\n",
      "4/4 [==============================] - 0s 14ms/step - loss: 0.3044 - val_loss: 0.2354 - lr: 0.0010\n",
      "Epoch 3/200\n",
      "4/4 [==============================] - 0s 14ms/step - loss: 0.3638 - val_loss: 0.1870 - lr: 0.0010\n",
      "Epoch 4/200\n",
      "4/4 [==============================] - 0s 15ms/step - loss: 0.3881 - val_loss: 0.1660 - lr: 0.0010\n",
      "Epoch 5/200\n",
      "4/4 [==============================] - 0s 15ms/step - loss: 0.2317 - val_loss: 0.1708 - lr: 0.0010\n",
      "Epoch 6/200\n",
      "4/4 [==============================] - 0s 15ms/step - loss: 0.3425 - val_loss: 0.1780 - lr: 0.0010\n",
      "Epoch 7/200\n",
      "4/4 [==============================] - 0s 14ms/step - loss: 0.3247 - val_loss: 0.1941 - lr: 0.0010\n",
      "Epoch 8/200\n",
      "4/4 [==============================] - 0s 15ms/step - loss: 0.3181 - val_loss: 0.2094 - lr: 0.0010\n",
      "Fold 2 Validation Loss: 0.16601386666297913\n",
      "Epoch 1/200\n",
      "4/4 [==============================] - 2s 139ms/step - loss: 0.2478 - val_loss: 0.1231 - lr: 0.0010\n",
      "Epoch 2/200\n",
      "4/4 [==============================] - 0s 16ms/step - loss: 0.2096 - val_loss: 0.1212 - lr: 0.0010\n",
      "Epoch 3/200\n",
      "4/4 [==============================] - 0s 15ms/step - loss: 0.2064 - val_loss: 0.1186 - lr: 0.0010\n",
      "Epoch 4/200\n",
      "4/4 [==============================] - 0s 16ms/step - loss: 0.2538 - val_loss: 0.1174 - lr: 0.0010\n",
      "Epoch 5/200\n",
      "4/4 [==============================] - 0s 16ms/step - loss: 0.2418 - val_loss: 0.1150 - lr: 0.0010\n",
      "Epoch 6/200\n",
      "4/4 [==============================] - 0s 16ms/step - loss: 0.2293 - val_loss: 0.1171 - lr: 0.0010\n",
      "Epoch 7/200\n",
      "4/4 [==============================] - 0s 16ms/step - loss: 0.2013 - val_loss: 0.1190 - lr: 0.0010\n",
      "Epoch 8/200\n",
      "4/4 [==============================] - 0s 16ms/step - loss: 0.2088 - val_loss: 0.1178 - lr: 0.0010\n",
      "Epoch 9/200\n",
      "4/4 [==============================] - 0s 17ms/step - loss: 0.1666 - val_loss: 0.1152 - lr: 0.0010\n",
      "Fold 3 Validation Loss: 0.11504610627889633\n",
      "Epoch 1/200\n",
      "4/4 [==============================] - 2s 138ms/step - loss: 0.4049 - val_loss: 0.4192 - lr: 0.0010\n",
      "Epoch 2/200\n",
      "4/4 [==============================] - 0s 13ms/step - loss: 0.3625 - val_loss: 0.3419 - lr: 0.0010\n",
      "Epoch 3/200\n",
      "4/4 [==============================] - 0s 14ms/step - loss: 0.2373 - val_loss: 0.2989 - lr: 0.0010\n",
      "Epoch 4/200\n",
      "4/4 [==============================] - 0s 14ms/step - loss: 0.2316 - val_loss: 0.2675 - lr: 0.0010\n",
      "Epoch 5/200\n",
      "4/4 [==============================] - 0s 15ms/step - loss: 0.1804 - val_loss: 0.2515 - lr: 0.0010\n",
      "Epoch 6/200\n",
      "4/4 [==============================] - 0s 17ms/step - loss: 0.1651 - val_loss: 0.2361 - lr: 0.0010\n",
      "Epoch 7/200\n",
      "4/4 [==============================] - 0s 17ms/step - loss: 0.1757 - val_loss: 0.2247 - lr: 0.0010\n",
      "Epoch 8/200\n",
      "4/4 [==============================] - 0s 18ms/step - loss: 0.1731 - val_loss: 0.2204 - lr: 0.0010\n",
      "Epoch 9/200\n",
      "4/4 [==============================] - 0s 18ms/step - loss: 0.1745 - val_loss: 0.2202 - lr: 0.0010\n",
      "Epoch 10/200\n",
      "4/4 [==============================] - 0s 17ms/step - loss: 0.1407 - val_loss: 0.2180 - lr: 0.0010\n",
      "Epoch 11/200\n",
      "4/4 [==============================] - 0s 16ms/step - loss: 0.1575 - val_loss: 0.2150 - lr: 0.0010\n",
      "Epoch 12/200\n",
      "4/4 [==============================] - 0s 18ms/step - loss: 0.1730 - val_loss: 0.2143 - lr: 0.0010\n",
      "Epoch 13/200\n",
      "4/4 [==============================] - 0s 16ms/step - loss: 0.1555 - val_loss: 0.2145 - lr: 0.0010\n",
      "Epoch 14/200\n",
      "4/4 [==============================] - 0s 15ms/step - loss: 0.1614 - val_loss: 0.2152 - lr: 0.0010\n",
      "Epoch 15/200\n",
      "4/4 [==============================] - 0s 15ms/step - loss: 0.1736 - val_loss: 0.2139 - lr: 0.0010\n",
      "Epoch 16/200\n",
      "4/4 [==============================] - 0s 15ms/step - loss: 0.1840 - val_loss: 0.2156 - lr: 0.0010\n",
      "Epoch 17/200\n",
      "4/4 [==============================] - 0s 15ms/step - loss: 0.1567 - val_loss: 0.2183 - lr: 0.0010\n",
      "Epoch 18/200\n",
      "4/4 [==============================] - 0s 15ms/step - loss: 0.1752 - val_loss: 0.2184 - lr: 0.0010\n",
      "Epoch 19/200\n",
      "4/4 [==============================] - 0s 16ms/step - loss: 0.1629 - val_loss: 0.2211 - lr: 0.0010\n",
      "Fold 4 Validation Loss: 0.2138882428407669\n",
      "Epoch 1/200\n",
      "4/4 [==============================] - 2s 123ms/step - loss: 1.2816 - val_loss: 0.9563 - lr: 0.0010\n",
      "Epoch 2/200\n",
      "4/4 [==============================] - 0s 13ms/step - loss: 1.0521 - val_loss: 0.7915 - lr: 0.0010\n",
      "Epoch 3/200\n",
      "4/4 [==============================] - 0s 15ms/step - loss: 0.8742 - val_loss: 0.6647 - lr: 0.0010\n",
      "Epoch 4/200\n",
      "4/4 [==============================] - 0s 15ms/step - loss: 0.8066 - val_loss: 0.5624 - lr: 0.0010\n",
      "Epoch 5/200\n",
      "4/4 [==============================] - 0s 15ms/step - loss: 0.6876 - val_loss: 0.4816 - lr: 0.0010\n",
      "Epoch 6/200\n",
      "4/4 [==============================] - 0s 15ms/step - loss: 0.6160 - val_loss: 0.4124 - lr: 0.0010\n",
      "Epoch 7/200\n",
      "4/4 [==============================] - 0s 16ms/step - loss: 0.5076 - val_loss: 0.3566 - lr: 0.0010\n",
      "Epoch 8/200\n",
      "4/4 [==============================] - 0s 16ms/step - loss: 0.5113 - val_loss: 0.3123 - lr: 0.0010\n",
      "Epoch 9/200\n",
      "4/4 [==============================] - 0s 15ms/step - loss: 0.4460 - val_loss: 0.2760 - lr: 0.0010\n",
      "Epoch 10/200\n",
      "4/4 [==============================] - 0s 26ms/step - loss: 0.3940 - val_loss: 0.2459 - lr: 0.0010\n",
      "Epoch 11/200\n",
      "4/4 [==============================] - 0s 18ms/step - loss: 0.3590 - val_loss: 0.2198 - lr: 0.0010\n",
      "Epoch 12/200\n",
      "4/4 [==============================] - 0s 16ms/step - loss: 0.3076 - val_loss: 0.1978 - lr: 0.0010\n",
      "Epoch 13/200\n",
      "4/4 [==============================] - 0s 16ms/step - loss: 0.2819 - val_loss: 0.1787 - lr: 0.0010\n",
      "Epoch 14/200\n",
      "4/4 [==============================] - 0s 16ms/step - loss: 0.2632 - val_loss: 0.1645 - lr: 0.0010\n",
      "Epoch 15/200\n",
      "4/4 [==============================] - 0s 15ms/step - loss: 0.2653 - val_loss: 0.1547 - lr: 0.0010\n",
      "Epoch 16/200\n",
      "4/4 [==============================] - 0s 15ms/step - loss: 0.2613 - val_loss: 0.1489 - lr: 0.0010\n",
      "Epoch 17/200\n",
      "4/4 [==============================] - 0s 15ms/step - loss: 0.2438 - val_loss: 0.1457 - lr: 0.0010\n",
      "Epoch 18/200\n",
      "4/4 [==============================] - 0s 16ms/step - loss: 0.1870 - val_loss: 0.1446 - lr: 0.0010\n",
      "Epoch 19/200\n",
      "4/4 [==============================] - 0s 15ms/step - loss: 0.1932 - val_loss: 0.1448 - lr: 0.0010\n",
      "Epoch 20/200\n",
      "4/4 [==============================] - 0s 16ms/step - loss: 0.2250 - val_loss: 0.1467 - lr: 0.0010\n",
      "Epoch 21/200\n",
      "4/4 [==============================] - 0s 15ms/step - loss: 0.1759 - val_loss: 0.1495 - lr: 0.0010\n",
      "Epoch 22/200\n",
      "4/4 [==============================] - 0s 16ms/step - loss: 0.2421 - val_loss: 0.1523 - lr: 0.0010\n",
      "Fold 5 Validation Loss: 0.14456135034561157\n",
      "Average Validation Loss: 0.1648094579577446\n"
     ]
    }
   ],
   "source": [
    "def create_model(input_shape):\n",
    "    model = Sequential()\n",
    "    model.add(LSTM(16, activation='relu', kernel_initializer=HeNormal(),\n",
    "                   kernel_regularizer=l1_l2(l1=0.0001, l2=0.00005),\n",
    "                   input_shape=input_shape, return_sequences=False))\n",
    "    model.add(Dropout(0.3))\n",
    "    model.add(Dense(8, activation='relu', kernel_initializer=HeNormal(),\n",
    "                    kernel_regularizer=l1_l2(l1=0.0001, l2=0.00005)))\n",
    "    model.add(Dense(1))\n",
    "    model.compile(optimizer=Adam(learning_rate=0.001), loss='mse')\n",
    "    return model\n",
    "\n",
    "kf = KFold(n_splits=5, shuffle=True, random_state=42)\n",
    "fold_losses = []\n",
    "\n",
    "for fold, (train_index, val_index) in enumerate(kf.split(x_seq)):\n",
    "    x_train, x_val = x_seq[train_index], x_seq[val_index]\n",
    "    y_train, y_val = y_seq[train_index], y_seq[val_index]\n",
    "\n",
    "    model = create_model((x_seq.shape[1], x_seq.shape[2]))\n",
    "\n",
    "    early_stopping = EarlyStopping(monitor='val_loss', patience=4, restore_best_weights=True)\n",
    "    reduce_lr = ReduceLROnPlateau(monitor='val_loss', factor=0.7, patience=6, min_lr=1e-5)\n",
    "\n",
    "    history = model.fit(x_train, y_train, epochs=200, batch_size=8,\n",
    "                        validation_data=(x_val, y_val),\n",
    "                        callbacks=[early_stopping, reduce_lr], verbose=1)\n",
    "\n",
    "    val_loss = model.evaluate(x_val, y_val, verbose=0)\n",
    "    fold_losses.append(val_loss)\n",
    "    print(f\"Fold {fold + 1} Validation Loss: {val_loss}\")\n",
    "\n",
    "print(f\"Average Validation Loss: {np.mean(fold_losses)}\")"
   ]
  },
  {
   "cell_type": "code",
   "execution_count": 264,
   "id": "fe546b08-610e-43d6-9586-af4f05aafe75",
   "metadata": {},
   "outputs": [
    {
     "name": "stdout",
     "output_type": "stream",
     "text": [
      "1/1 [==============================] - 0s 217ms/step\n"
     ]
    }
   ],
   "source": [
    "y_pred_scaled = model.predict(x_test)\n",
    "y_pred = scale_y.inverse_transform(y_pred_scaled)\n",
    "y_test_original = scale_y.inverse_transform(y_test)\n"
   ]
  },
  {
   "cell_type": "code",
   "execution_count": 265,
   "id": "bb66c45f-9720-44a1-b769-f62ea70646c0",
   "metadata": {},
   "outputs": [
    {
     "name": "stdout",
     "output_type": "stream",
     "text": [
      "0.0 0.9999999999999999\n",
      "0.0 0.6292732855680655\n"
     ]
    }
   ],
   "source": [
    "print(y_train.min(), y_train.max())\n",
    "print(y_test.min(), y_test.max())"
   ]
  },
  {
   "cell_type": "code",
   "execution_count": 266,
   "id": "b1d92d49-b16e-4dbc-be40-84019200e62f",
   "metadata": {},
   "outputs": [
    {
     "name": "stdout",
     "output_type": "stream",
     "text": [
      "MAE: 91.76, RMSE: 105.16\n"
     ]
    }
   ],
   "source": [
    "mae = mean_absolute_error(y_test_original, y_pred)\n",
    "rmse = np.sqrt(mean_squared_error(y_test_original, y_pred))\n",
    "print(f'MAE: {mae:.2f}, RMSE: {rmse:.2f}')"
   ]
  },
  {
   "cell_type": "code",
   "execution_count": 267,
   "id": "0254da39-e3f9-4167-a5da-4f33eece00da",
   "metadata": {},
   "outputs": [
    {
     "name": "stdout",
     "output_type": "stream",
     "text": [
      "[111.750435] [0.]\n",
      "[92.40611] [245.92]\n",
      "[127.444626] [182.22]\n",
      "[123.826836] [166.85]\n",
      "[118.476006] [0.]\n",
      "[91.33401] [102.62]\n",
      "[64.472946] [213.94]\n"
     ]
    }
   ],
   "source": [
    "for i in range(y_test.shape[0]):\n",
    "    print(y_pred[i], y_test_original[i])"
   ]
  },
  {
   "cell_type": "code",
   "execution_count": 530,
   "id": "21f2251a-3ee4-4528-b4fc-272633585806",
   "metadata": {},
   "outputs": [
    {
     "name": "stdout",
     "output_type": "stream",
     "text": [
      "1/1 [==============================] - 0s 372ms/step\n",
      "Predicted Value for 01-03-2025: 22.104232788085938\n"
     ]
    }
   ],
   "source": [
    "from datetime import datetime, timedelta\n",
    "next_day = datetime.strptime('28-02-2025', '%d-%m-%Y') + timedelta(days=1)\n",
    "next_data = {\n",
    "    'month': next_day.month,\n",
    "    'day_of_week': next_day.weekday(),\n",
    "    'day_sin': np.sin(2 * np.pi * next_day.day / 31),\n",
    "    'day_cos': np.cos(2 * np.pi * next_day.day / 31),\n",
    "    'month_sin': np.sin(2 * np.pi * next_day.month / 12),\n",
    "    'month_cos': np.cos(2 * np.pi * next_day.month / 12),\n",
    "}\n",
    "if df.shape[0] > 60:\n",
    "    for i in list(range(1, 8)) + [14, 21]:\n",
    "        next_data[f'lag_{i}'] = x_scaled[-i, 0]\n",
    "else:\n",
    "    for i in range(1, 8):\n",
    "        next_data[f'lag_{i}'] = x_scaled[-i, 0]\n",
    "next_day_input = pd.DataFrame([next_data])\n",
    "next_day_input = scale_x.transform(next_day_input)\n",
    "x_input = next_day_input.reshape(1, 1, -1)\n",
    "predicted_value = model.predict(x_input)\n",
    "original_predicted_value = scale_y.inverse_transform(predicted_value)\n",
    "print(f\"Predicted Value for {next_day.strftime('%d-%m-%Y')}: {original_predicted_value[0][0]}\")"
   ]
  },
  {
   "cell_type": "code",
   "execution_count": 531,
   "id": "988ba389-e00e-4fcd-80e0-786c823f18c5",
   "metadata": {},
   "outputs": [
    {
     "name": "stdout",
     "output_type": "stream",
     "text": [
      "Last Week's Spending Data: date\n",
      "2025-02-22     54.80\n",
      "2025-02-23     36.89\n",
      "2025-02-24    134.71\n",
      "2025-02-25    310.15\n",
      "2025-02-26     98.97\n",
      "2025-02-27    290.49\n",
      "2025-02-28     65.20\n",
      "Name: total_price, dtype: float64\n"
     ]
    }
   ],
   "source": [
    "last_week_data = y[-7:]\n",
    "print(\"Last Week's Spending Data:\", last_week_data)"
   ]
  },
  {
   "cell_type": "code",
   "execution_count": 532,
   "id": "caf023bd-f5b1-4f16-9c13-f8dbd6d6beb7",
   "metadata": {},
   "outputs": [
    {
     "data": {
      "text/html": [
       "<div>\n",
       "<style scoped>\n",
       "    .dataframe tbody tr th:only-of-type {\n",
       "        vertical-align: middle;\n",
       "    }\n",
       "\n",
       "    .dataframe tbody tr th {\n",
       "        vertical-align: top;\n",
       "    }\n",
       "\n",
       "    .dataframe thead th {\n",
       "        text-align: right;\n",
       "    }\n",
       "</style>\n",
       "<table border=\"1\" class=\"dataframe\">\n",
       "  <thead>\n",
       "    <tr style=\"text-align: right;\">\n",
       "      <th></th>\n",
       "      <th>total_price</th>\n",
       "      <th>month</th>\n",
       "      <th>day_of_week</th>\n",
       "      <th>day_sin</th>\n",
       "      <th>day_cos</th>\n",
       "      <th>month_sin</th>\n",
       "      <th>month_cos</th>\n",
       "      <th>lag_1</th>\n",
       "      <th>lag_2</th>\n",
       "      <th>lag_3</th>\n",
       "      <th>lag_4</th>\n",
       "      <th>lag_5</th>\n",
       "      <th>lag_6</th>\n",
       "      <th>lag_7</th>\n",
       "    </tr>\n",
       "    <tr>\n",
       "      <th>date</th>\n",
       "      <th></th>\n",
       "      <th></th>\n",
       "      <th></th>\n",
       "      <th></th>\n",
       "      <th></th>\n",
       "      <th></th>\n",
       "      <th></th>\n",
       "      <th></th>\n",
       "      <th></th>\n",
       "      <th></th>\n",
       "      <th></th>\n",
       "      <th></th>\n",
       "      <th></th>\n",
       "      <th></th>\n",
       "    </tr>\n",
       "  </thead>\n",
       "  <tbody>\n",
       "    <tr>\n",
       "      <th>2025-02-01</th>\n",
       "      <td>45.62</td>\n",
       "      <td>2</td>\n",
       "      <td>5</td>\n",
       "      <td>-0.974928</td>\n",
       "      <td>-0.222521</td>\n",
       "      <td>0.866025</td>\n",
       "      <td>0.5</td>\n",
       "      <td>0.00</td>\n",
       "      <td>0.00</td>\n",
       "      <td>0.00</td>\n",
       "      <td>0.00</td>\n",
       "      <td>0.00</td>\n",
       "      <td>0.00</td>\n",
       "      <td>0.00</td>\n",
       "    </tr>\n",
       "    <tr>\n",
       "      <th>2025-02-08</th>\n",
       "      <td>252.06</td>\n",
       "      <td>2</td>\n",
       "      <td>5</td>\n",
       "      <td>-0.974928</td>\n",
       "      <td>-0.222521</td>\n",
       "      <td>0.866025</td>\n",
       "      <td>0.5</td>\n",
       "      <td>381.57</td>\n",
       "      <td>199.31</td>\n",
       "      <td>327.42</td>\n",
       "      <td>184.70</td>\n",
       "      <td>86.60</td>\n",
       "      <td>313.99</td>\n",
       "      <td>45.62</td>\n",
       "    </tr>\n",
       "    <tr>\n",
       "      <th>2025-02-15</th>\n",
       "      <td>0.00</td>\n",
       "      <td>2</td>\n",
       "      <td>5</td>\n",
       "      <td>-0.974928</td>\n",
       "      <td>-0.222521</td>\n",
       "      <td>0.866025</td>\n",
       "      <td>0.5</td>\n",
       "      <td>131.32</td>\n",
       "      <td>0.00</td>\n",
       "      <td>156.48</td>\n",
       "      <td>279.49</td>\n",
       "      <td>99.73</td>\n",
       "      <td>85.45</td>\n",
       "      <td>252.06</td>\n",
       "    </tr>\n",
       "    <tr>\n",
       "      <th>2025-02-22</th>\n",
       "      <td>54.80</td>\n",
       "      <td>2</td>\n",
       "      <td>5</td>\n",
       "      <td>-0.974928</td>\n",
       "      <td>-0.222521</td>\n",
       "      <td>0.866025</td>\n",
       "      <td>0.5</td>\n",
       "      <td>133.08</td>\n",
       "      <td>76.83</td>\n",
       "      <td>219.04</td>\n",
       "      <td>333.34</td>\n",
       "      <td>0.00</td>\n",
       "      <td>239.09</td>\n",
       "      <td>0.00</td>\n",
       "    </tr>\n",
       "  </tbody>\n",
       "</table>\n",
       "</div>"
      ],
      "text/plain": [
       "            total_price  month  day_of_week   day_sin   day_cos  ...   lag_3   lag_4  lag_5   lag_6   lag_7\n",
       "date                                                             ...                                       \n",
       "2025-02-01        45.62      2            5 -0.974928 -0.222521  ...    0.00    0.00   0.00    0.00    0.00\n",
       "2025-02-08       252.06      2            5 -0.974928 -0.222521  ...  327.42  184.70  86.60  313.99   45.62\n",
       "2025-02-15         0.00      2            5 -0.974928 -0.222521  ...  156.48  279.49  99.73   85.45  252.06\n",
       "2025-02-22        54.80      2            5 -0.974928 -0.222521  ...  219.04  333.34   0.00  239.09    0.00\n",
       "\n",
       "[4 rows x 14 columns]"
      ]
     },
     "execution_count": 532,
     "metadata": {},
     "output_type": "execute_result"
    }
   ],
   "source": [
    "df[df['day_of_week'] == 5]"
   ]
  },
  {
   "cell_type": "code",
   "execution_count": null,
   "id": "7ef56355-c45d-4fce-a35a-6fcae5c0ac38",
   "metadata": {},
   "outputs": [],
   "source": []
  },
  {
   "cell_type": "code",
   "execution_count": null,
   "id": "53f8ca16-66a4-4541-a477-fd8eca931e78",
   "metadata": {},
   "outputs": [],
   "source": []
  },
  {
   "cell_type": "code",
   "execution_count": null,
   "id": "6b9fca55-c56c-4671-8731-514e818a42f4",
   "metadata": {},
   "outputs": [],
   "source": []
  }
 ],
 "metadata": {
  "kernelspec": {
   "display_name": "Python (tf_env)",
   "language": "python",
   "name": "tf_env"
  },
  "language_info": {
   "codemirror_mode": {
    "name": "ipython",
    "version": 3
   },
   "file_extension": ".py",
   "mimetype": "text/x-python",
   "name": "python",
   "nbconvert_exporter": "python",
   "pygments_lexer": "ipython3",
   "version": "3.10.13"
  }
 },
 "nbformat": 4,
 "nbformat_minor": 5
}
